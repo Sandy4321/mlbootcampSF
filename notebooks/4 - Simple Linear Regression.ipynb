{
 "cells": [
  {
   "cell_type": "markdown",
   "metadata": {},
   "source": [
    "# Part 4 - Simple Linear Regression"
   ]
  },
  {
   "cell_type": "markdown",
   "metadata": {},
   "source": [
    "Finally!\n",
    "Let's get started with a basic Machine Learning algorithm: **Simple Linear Regression**.  \n",
    "Think of this as the `\"Hello World!\"` of ML!  \n",
    "Everyone remembers the equation of a line:  \n",
    "  \n",
    "$$\n",
    "y = mx + b\n",
    "$$ \n",
    "  \n",
    "Given an unknown value of `x`, we can infer `y` by multiplying by slope `m` and adding y-intercept `b`.  \n",
    "Linear Regression uses the same basic concept, however `x` can be multidimensional, denoted as a matrix `X`.  \n",
    "This notebook will deal with only single dimensional `x`."
   ]
  },
  {
   "cell_type": "code",
   "execution_count": 1,
   "metadata": {},
   "outputs": [],
   "source": [
    "import time\n",
    "import pandas as pd\n",
    "import matplotlib.pyplot as plt\n",
    "import seaborn as sns\n",
    "import numpy as np\n",
    "from sklearn.linear_model import LinearRegression\n",
    "from sklearn.metrics import mean_squared_error\n",
    "from sklearn.model_selection import train_test_split\n",
    "%matplotlib inline"
   ]
  },
  {
   "cell_type": "markdown",
   "metadata": {},
   "source": [
    "## Let's load the data and remind ourselves of the contents"
   ]
  },
  {
   "cell_type": "code",
   "execution_count": 2,
   "metadata": {},
   "outputs": [
    {
     "data": {
      "text/html": [
       "<div>\n",
       "<style scoped>\n",
       "    .dataframe tbody tr th:only-of-type {\n",
       "        vertical-align: middle;\n",
       "    }\n",
       "\n",
       "    .dataframe tbody tr th {\n",
       "        vertical-align: top;\n",
       "    }\n",
       "\n",
       "    .dataframe thead th {\n",
       "        text-align: right;\n",
       "    }\n",
       "</style>\n",
       "<table border=\"1\" class=\"dataframe\">\n",
       "  <thead>\n",
       "    <tr style=\"text-align: right;\">\n",
       "      <th></th>\n",
       "      <th>bath</th>\n",
       "      <th>bed</th>\n",
       "      <th>sqft</th>\n",
       "      <th>price</th>\n",
       "      <th>property_type_apartment</th>\n",
       "      <th>property_type_auction</th>\n",
       "      <th>property_type_coming</th>\n",
       "      <th>property_type_condo</th>\n",
       "      <th>property_type_coop</th>\n",
       "      <th>property_type_house</th>\n",
       "      <th>...</th>\n",
       "      <th>postal_code_94121</th>\n",
       "      <th>postal_code_94122</th>\n",
       "      <th>postal_code_94123</th>\n",
       "      <th>postal_code_94124</th>\n",
       "      <th>postal_code_94127</th>\n",
       "      <th>postal_code_94131</th>\n",
       "      <th>postal_code_94132</th>\n",
       "      <th>postal_code_94133</th>\n",
       "      <th>postal_code_94134</th>\n",
       "      <th>postal_code_94501</th>\n",
       "    </tr>\n",
       "  </thead>\n",
       "  <tbody>\n",
       "    <tr>\n",
       "      <th>0</th>\n",
       "      <td>2.0</td>\n",
       "      <td>3.0</td>\n",
       "      <td>1520.0</td>\n",
       "      <td>1995000.0</td>\n",
       "      <td>0</td>\n",
       "      <td>0</td>\n",
       "      <td>0</td>\n",
       "      <td>1</td>\n",
       "      <td>0</td>\n",
       "      <td>0</td>\n",
       "      <td>...</td>\n",
       "      <td>0</td>\n",
       "      <td>0</td>\n",
       "      <td>0</td>\n",
       "      <td>0</td>\n",
       "      <td>0</td>\n",
       "      <td>0</td>\n",
       "      <td>0</td>\n",
       "      <td>0</td>\n",
       "      <td>0</td>\n",
       "      <td>0</td>\n",
       "    </tr>\n",
       "    <tr>\n",
       "      <th>1</th>\n",
       "      <td>1.0</td>\n",
       "      <td>1.0</td>\n",
       "      <td>566.0</td>\n",
       "      <td>625000.0</td>\n",
       "      <td>0</td>\n",
       "      <td>0</td>\n",
       "      <td>0</td>\n",
       "      <td>1</td>\n",
       "      <td>0</td>\n",
       "      <td>0</td>\n",
       "      <td>...</td>\n",
       "      <td>0</td>\n",
       "      <td>0</td>\n",
       "      <td>0</td>\n",
       "      <td>0</td>\n",
       "      <td>0</td>\n",
       "      <td>0</td>\n",
       "      <td>0</td>\n",
       "      <td>0</td>\n",
       "      <td>0</td>\n",
       "      <td>0</td>\n",
       "    </tr>\n",
       "    <tr>\n",
       "      <th>2</th>\n",
       "      <td>1.0</td>\n",
       "      <td>1.0</td>\n",
       "      <td>914.0</td>\n",
       "      <td>1196000.0</td>\n",
       "      <td>0</td>\n",
       "      <td>0</td>\n",
       "      <td>0</td>\n",
       "      <td>1</td>\n",
       "      <td>0</td>\n",
       "      <td>0</td>\n",
       "      <td>...</td>\n",
       "      <td>0</td>\n",
       "      <td>0</td>\n",
       "      <td>0</td>\n",
       "      <td>0</td>\n",
       "      <td>0</td>\n",
       "      <td>0</td>\n",
       "      <td>0</td>\n",
       "      <td>0</td>\n",
       "      <td>0</td>\n",
       "      <td>0</td>\n",
       "    </tr>\n",
       "    <tr>\n",
       "      <th>3</th>\n",
       "      <td>1.5</td>\n",
       "      <td>1.0</td>\n",
       "      <td>1022.0</td>\n",
       "      <td>935000.0</td>\n",
       "      <td>0</td>\n",
       "      <td>0</td>\n",
       "      <td>0</td>\n",
       "      <td>1</td>\n",
       "      <td>0</td>\n",
       "      <td>0</td>\n",
       "      <td>...</td>\n",
       "      <td>0</td>\n",
       "      <td>0</td>\n",
       "      <td>0</td>\n",
       "      <td>0</td>\n",
       "      <td>0</td>\n",
       "      <td>0</td>\n",
       "      <td>0</td>\n",
       "      <td>0</td>\n",
       "      <td>0</td>\n",
       "      <td>0</td>\n",
       "    </tr>\n",
       "    <tr>\n",
       "      <th>4</th>\n",
       "      <td>2.0</td>\n",
       "      <td>2.0</td>\n",
       "      <td>1912.0</td>\n",
       "      <td>2750000.0</td>\n",
       "      <td>0</td>\n",
       "      <td>0</td>\n",
       "      <td>0</td>\n",
       "      <td>1</td>\n",
       "      <td>0</td>\n",
       "      <td>0</td>\n",
       "      <td>...</td>\n",
       "      <td>0</td>\n",
       "      <td>0</td>\n",
       "      <td>0</td>\n",
       "      <td>0</td>\n",
       "      <td>0</td>\n",
       "      <td>0</td>\n",
       "      <td>0</td>\n",
       "      <td>0</td>\n",
       "      <td>0</td>\n",
       "      <td>0</td>\n",
       "    </tr>\n",
       "  </tbody>\n",
       "</table>\n",
       "<p>5 rows × 37 columns</p>\n",
       "</div>"
      ],
      "text/plain": [
       "   bath  bed    sqft      price  property_type_apartment  \\\n",
       "0   2.0  3.0  1520.0  1995000.0                        0   \n",
       "1   1.0  1.0   566.0   625000.0                        0   \n",
       "2   1.0  1.0   914.0  1196000.0                        0   \n",
       "3   1.5  1.0  1022.0   935000.0                        0   \n",
       "4   2.0  2.0  1912.0  2750000.0                        0   \n",
       "\n",
       "   property_type_auction  property_type_coming  property_type_condo  \\\n",
       "0                      0                     0                    1   \n",
       "1                      0                     0                    1   \n",
       "2                      0                     0                    1   \n",
       "3                      0                     0                    1   \n",
       "4                      0                     0                    1   \n",
       "\n",
       "   property_type_coop  property_type_house        ...          \\\n",
       "0                   0                    0        ...           \n",
       "1                   0                    0        ...           \n",
       "2                   0                    0        ...           \n",
       "3                   0                    0        ...           \n",
       "4                   0                    0        ...           \n",
       "\n",
       "   postal_code_94121  postal_code_94122  postal_code_94123  postal_code_94124  \\\n",
       "0                  0                  0                  0                  0   \n",
       "1                  0                  0                  0                  0   \n",
       "2                  0                  0                  0                  0   \n",
       "3                  0                  0                  0                  0   \n",
       "4                  0                  0                  0                  0   \n",
       "\n",
       "   postal_code_94127  postal_code_94131  postal_code_94132  postal_code_94133  \\\n",
       "0                  0                  0                  0                  0   \n",
       "1                  0                  0                  0                  0   \n",
       "2                  0                  0                  0                  0   \n",
       "3                  0                  0                  0                  0   \n",
       "4                  0                  0                  0                  0   \n",
       "\n",
       "   postal_code_94134  postal_code_94501  \n",
       "0                  0                  0  \n",
       "1                  0                  0  \n",
       "2                  0                  0  \n",
       "3                  0                  0  \n",
       "4                  0                  0  \n",
       "\n",
       "[5 rows x 37 columns]"
      ]
     },
     "execution_count": 2,
     "metadata": {},
     "output_type": "execute_result"
    }
   ],
   "source": [
    "df = pd.read_csv('./data/sf/data_clean_engineered.csv')\n",
    "df.head()"
   ]
  },
  {
   "cell_type": "markdown",
   "metadata": {},
   "source": [
    "For this basic linear regression example we will choose only one variable as our independent variable `x`.  \n",
    "In our EDA we discovered that `sqft` was highly correlated with `price` and they also shared a linear relationship.  \n",
    "This makes `sqft` a great candidate for inferring `price` using linear regression.  "
   ]
  },
  {
   "cell_type": "markdown",
   "metadata": {},
   "source": [
    "Recall our line equation: \n",
    "$$\n",
    "y = mx + b\n",
    "$$ \n",
    "\n",
    "We assign the 'price' column of our DataFrame as the dependent variable `y` and the 'sqft' column as the independent variable `x`"
   ]
  },
  {
   "cell_type": "code",
   "execution_count": 3,
   "metadata": {},
   "outputs": [],
   "source": [
    "x = df['sqft']\n",
    "y = df['price']"
   ]
  },
  {
   "cell_type": "markdown",
   "metadata": {},
   "source": [
    "Note:  \n",
    "Indexing into a single column of a `pandas.DataFrame` will return a `pandas.Series` object while indexing multiple columns will return another `pandas.DataFrame`. Additionally, the `pandas.Series` object is a wrapper around the popular `numpy.ndarray` datatype. We can get the `numpy.ndarray` from the `Series` using `Series.values`.  \n",
    "See below:"
   ]
  },
  {
   "cell_type": "code",
   "execution_count": 4,
   "metadata": {},
   "outputs": [
    {
     "name": "stdout",
     "output_type": "stream",
     "text": [
      "df type = <class 'pandas.core.frame.DataFrame'>\n",
      "x type = <class 'pandas.core.series.Series'>\n",
      "y type = <class 'pandas.core.series.Series'>\n",
      "multi_indexed type = <class 'pandas.core.frame.DataFrame'>\n",
      "x.values type = <class 'numpy.ndarray'>\n"
     ]
    }
   ],
   "source": [
    "print(\"df type = {}\".format(type(df)))\n",
    "print(\"x type = {}\".format(type(x)))\n",
    "print(\"y type = {}\".format(type(y)))\n",
    "multi_indexed = df[['sqft', 'price']]\n",
    "print(\"multi_indexed type = {}\".format(type(multi_indexed)))\n",
    "ndarray = x.values\n",
    "print(\"x.values type = {}\".format(type(ndarray)))"
   ]
  },
  {
   "cell_type": "markdown",
   "metadata": {},
   "source": [
    "## Plot `price` vs `sqft`"
   ]
  },
  {
   "cell_type": "code",
   "execution_count": 5,
   "metadata": {},
   "outputs": [
    {
     "data": {
      "text/plain": [
       "<matplotlib.axes._subplots.AxesSubplot at 0x7fde42b71208>"
      ]
     },
     "execution_count": 5,
     "metadata": {},
     "output_type": "execute_result"
    },
    {
     "data": {
      "image/png": "[encoded data removed]",
      "text/plain": [
       "<Figure size 864x576 with 1 Axes>"
      ]
     },
     "metadata": {},
     "output_type": "display_data"
    }
   ],
   "source": [
    "sns.set(rc={'figure.figsize':(12, 8)})# globally set our seaborn plot size to 12 by 8 inches\n",
    "sns.regplot(x, y, fit_reg=False)"
   ]
  },
  {
   "cell_type": "markdown",
   "metadata": {},
   "source": [
    "We observe a linear relationship between `x` and `y` and we could probably visually estimate a best fitting line using our eyes however let's determine this best fitting line algorithmically using [Ordinary Least Squares](https://en.wikipedia.org/wiki/Ordinary_least_squares).  "
   ]
  },
  {
   "cell_type": "markdown",
   "metadata": {},
   "source": [
    "Ordinary Least Squares (OLS) is a great introduction to our first **Optimization** problem in which we are **minimizing** the sum of square differences between the observed and predicted values in order to find the best fit line to the data.  \n",
    "  \n",
    "Basically: \n",
    "1. start with an initial *guess* at the slope `m` and y-intercept `b` of the line equation\n",
    "2. calculate the sum of square differences between the predicted value of `y` and the actual value of `y`.\n",
    "3. adjust parameters (slope `m` and y-intercept `b`) such that error gets *smaller*.\n",
    "4. repeate steps 1-3 until error cannot decrease any further.\n",
    "  "
   ]
  },
  {
   "cell_type": "markdown",
   "metadata": {},
   "source": [
    "### See [here] for a quick, interactive tutorial on OLS.\n",
    "[here]: http://setosa.io/ev/ordinary-least-squares-regression/"
   ]
  },
  {
   "cell_type": "markdown",
   "metadata": {},
   "source": [
    "Rather than write our linear regressor from scratch, let's use the [LinearRegression] module from [scikit-learn], a popular machine learning library.  \n",
    "[LinearRegression]: http://scikit-learn.org/stable/modules/generated/sklearn.linear_model.LinearRegression.html\n",
    "[Scikit-Learn]: http://scikit-learn.org/stable/"
   ]
  },
  {
   "cell_type": "code",
   "execution_count": 7,
   "metadata": {},
   "outputs": [],
   "source": [
    "regressor = LinearRegression(normalize=True)"
   ]
  },
  {
   "cell_type": "markdown",
   "metadata": {},
   "source": [
    "We can now simply call `fit()` on the `regressor` object to run OLS to iteratively fit to the training data.  \n",
    "  \n",
    "Note:  \n",
    "`fit()` expects `x` to be a `numpy.ndarray` of shape `(num_samples, num_features)` and `y` to be of shape `(num_samples, 1)`.  \n",
    "Recall we are only dealing with single variable linear regression in this notebook so our number of features is 1 however in multiple linear regression the number of features can be very large. "
   ]
  },
  {
   "cell_type": "markdown",
   "metadata": {},
   "source": [
    "Let's try first with our `x` and `y` DataFrames so we can get acquianted with the error message in case we encounter something similar in the future"
   ]
  },
  {
   "cell_type": "code",
   "execution_count": 8,
   "metadata": {
    "scrolled": true
   },
   "outputs": [
    {
     "name": "stdout",
     "output_type": "stream",
     "text": [
      "x.shape = (514,)\n",
      "y.shape = (514,)\n"
     ]
    },
    {
     "ename": "ValueError",
     "evalue": "Expected 2D array, got 1D array instead:\narray=[1.520e+03 5.660e+02 9.140e+02 1.022e+03 1.912e+03 6.300e+02 1.479e+03\n 1.166e+03 1.160e+03 1.336e+03 7.350e+02 2.308e+03 1.839e+03 1.510e+03\n 1.026e+03 1.215e+03 1.779e+03 1.200e+03 8.620e+02 9.420e+02 1.471e+03\n 1.421e+03 1.128e+03 1.918e+03 3.200e+03 1.300e+03 9.970e+02 1.308e+03\n 3.200e+03 1.093e+03 7.440e+02 1.170e+03 1.050e+03 1.282e+03 1.656e+03\n 8.340e+02 1.049e+03 1.525e+03 1.500e+03 1.430e+03 1.496e+03 1.523e+03\n 2.475e+03 8.900e+02 2.700e+03 1.315e+03 1.475e+03 1.805e+03 1.695e+03\n 1.852e+03 8.060e+02 4.418e+03 2.137e+03 3.157e+03 2.500e+03 1.810e+03\n 1.788e+03 3.221e+03 2.628e+03 2.720e+03 1.299e+03 6.240e+02 2.050e+03\n 5.203e+03 6.900e+02 1.099e+03 2.300e+03 1.308e+03 6.260e+02 1.132e+03\n 7.420e+02 1.838e+03 1.009e+03 1.284e+03 1.170e+03 1.820e+03 1.270e+03\n 2.330e+03 1.980e+03 2.050e+03 2.478e+03 6.762e+03 1.686e+03 1.439e+03\n 1.785e+03 1.024e+03 9.290e+02 6.383e+03 5.000e+02 8.450e+02 1.021e+03\n 1.886e+03 9.370e+02 2.000e+03 7.640e+02 8.300e+02 6.640e+02 1.213e+03\n 8.670e+02 6.290e+02 6.650e+02 7.950e+02 5.000e+02 4.190e+02 1.004e+03\n 8.440e+02 1.175e+03 1.373e+03 9.320e+02 1.900e+03 2.898e+03 1.117e+03\n 6.825e+03 3.865e+03 6.800e+02 9.650e+02 1.823e+03 9.440e+02 4.730e+03\n 9.000e+02 2.345e+03 4.210e+03 5.003e+03 9.680e+02 1.650e+03 1.680e+03\n 1.400e+03 1.250e+03 2.917e+03 2.433e+03 8.000e+02 2.550e+03 1.400e+03\n 6.780e+02 4.890e+02 4.850e+02 5.940e+02 3.850e+02 6.250e+02 8.810e+02\n 2.320e+03 1.330e+03 1.600e+03 1.838e+03 8.000e+02 1.025e+03 1.245e+03\n 2.416e+03 9.000e+02 9.010e+02 1.075e+03 1.319e+03 2.560e+03 1.442e+03\n 1.926e+03 2.914e+03 1.430e+03 8.920e+02 5.680e+02 3.915e+03 2.100e+03\n 1.900e+03 9.250e+02 2.800e+03 1.870e+03 2.988e+03 2.490e+03 2.400e+03\n 1.970e+03 2.342e+03 1.299e+03 6.000e+02 1.593e+03 3.282e+03 2.260e+03\n 2.790e+03 2.337e+03 3.687e+03 2.765e+03 1.115e+03 6.187e+03 1.870e+03\n 1.790e+03 1.600e+03 1.510e+03 8.400e+02 1.793e+03 6.750e+02 1.300e+03\n 1.360e+03 9.260e+02 1.003e+03 3.525e+03 1.211e+03 1.812e+03 1.185e+03\n 1.767e+03 1.250e+03 1.590e+03 1.212e+03 1.156e+03 1.342e+03 1.318e+03\n 1.080e+03 1.140e+03 1.414e+03 1.156e+03 1.115e+03 6.700e+02 1.018e+03\n 1.910e+03 1.419e+03 1.605e+03 1.216e+03 1.780e+03 7.950e+02 6.700e+02\n 7.100e+02 1.882e+03 1.189e+03 1.203e+03 1.395e+03 9.720e+02 2.685e+03\n 1.181e+03 1.161e+03 1.189e+03 2.126e+03 9.430e+02 1.000e+00 2.706e+03\n 1.360e+03 4.950e+02 1.582e+03 1.058e+03 3.960e+03 2.253e+03 9.060e+02\n 7.820e+02 1.184e+03 8.230e+02 3.755e+03 9.600e+02 1.100e+03 1.547e+03\n 2.903e+03 1.256e+03 1.526e+03 6.180e+02 7.430e+02 8.840e+02 1.092e+03\n 7.070e+02 8.690e+02 9.030e+02 8.660e+02 5.360e+02 7.690e+02 2.027e+03\n 6.560e+02 7.750e+02 1.579e+03 1.755e+03 1.560e+03 1.541e+03 1.450e+03\n 2.663e+03 1.688e+03 9.600e+02 1.350e+03 1.690e+03 1.780e+03 1.382e+03\n 2.221e+03 2.357e+03 9.000e+02 1.790e+03 2.425e+03 8.300e+02 1.500e+03\n 1.189e+03 1.250e+03 1.325e+03 7.500e+02 3.168e+03 7.460e+02 1.782e+03\n 1.892e+03 9.180e+02 1.560e+03 1.181e+03 1.823e+03 1.747e+03 2.500e+03\n 6.530e+02 1.947e+03 1.708e+03 1.314e+03 2.189e+03 8.250e+02 1.223e+03\n 1.638e+03 1.308e+03 9.890e+02 1.500e+03 1.131e+03 1.630e+03 7.830e+02\n 2.937e+03 6.730e+02 9.000e+02 1.912e+03 1.198e+03 2.929e+03 3.256e+03\n 1.024e+03 1.100e+03 2.677e+03 6.480e+02 5.000e+02 6.030e+02 9.200e+02\n 1.542e+03 1.826e+03 6.070e+02 8.280e+02 1.073e+03 2.898e+03 1.225e+03\n 5.580e+02 5.920e+02 2.345e+03 9.000e+02 9.460e+02 8.420e+02 1.915e+03\n 9.480e+02 2.133e+03 1.400e+03 1.212e+03 2.030e+03 1.250e+03 1.500e+03\n 1.400e+03 2.658e+03 4.040e+02 1.100e+03 6.690e+02 1.193e+03 1.681e+03\n 9.370e+02 6.600e+02 7.500e+02 1.180e+03 1.616e+03 6.720e+02 3.910e+02\n 8.900e+02 1.125e+03 6.310e+02 9.000e+02 9.010e+02 3.994e+03 2.178e+03\n 2.695e+03 1.422e+03 2.000e+03 5.680e+02 7.850e+02 7.850e+02 1.600e+03\n 1.280e+03 1.384e+03 1.340e+03 1.868e+03 1.042e+03 2.790e+03 2.760e+03\n 1.834e+03 7.000e+02 1.050e+03 1.590e+03 1.024e+03 1.155e+03 1.187e+03\n 8.400e+02 8.540e+02 4.740e+02 6.500e+02 1.187e+03 7.780e+02 6.460e+02\n 9.760e+02 1.204e+03 2.151e+03 1.812e+03 9.030e+02 1.145e+03 1.735e+03\n 1.694e+03 1.612e+03 1.058e+03 8.750e+02 1.407e+03 8.070e+02 5.500e+02\n 1.525e+03 1.007e+03 1.500e+03 1.063e+03 1.675e+03 1.850e+03 1.958e+03\n 1.170e+03 8.140e+02 1.676e+03 7.380e+02 8.320e+02 5.360e+02 2.045e+03\n 1.505e+03 2.433e+03 1.640e+03 1.690e+03 9.650e+02 1.423e+03 1.531e+03\n 1.694e+03 1.895e+03 1.240e+03 1.580e+03 1.375e+03 1.850e+03 9.560e+02\n 1.113e+03 2.200e+03 1.300e+03 1.810e+03 2.360e+03 1.290e+03 1.626e+03\n 2.300e+03 1.099e+03 8.370e+02 2.528e+03 1.067e+03 1.067e+03 7.400e+02\n 9.980e+02 6.500e+02 5.400e+02 1.330e+03 1.024e+03 2.196e+03 1.587e+03\n 1.565e+03 9.370e+02 1.220e+03 1.692e+03 3.865e+03 1.398e+03 1.170e+03\n 1.730e+03 2.100e+03 1.325e+03 2.393e+03 1.625e+03 1.200e+03 1.440e+03\n 1.300e+03 2.189e+03 3.280e+03 8.370e+02 9.480e+02 5.940e+02 3.200e+03\n 1.024e+03 1.251e+03 1.108e+03 1.785e+03 9.760e+02 1.199e+03 1.550e+03\n 1.600e+03 2.700e+03 2.300e+03 1.000e+03 1.780e+03 1.763e+03 1.470e+03\n 1.668e+03 1.450e+03 6.130e+02 8.400e+02 1.533e+03 1.032e+03 8.500e+02\n 1.317e+03 1.310e+03 1.780e+03 1.583e+03 1.602e+03 2.328e+03 1.256e+03\n 1.625e+03 8.500e+02 1.284e+03 1.001e+03 1.243e+03 6.700e+02 1.600e+03\n 1.560e+03 1.690e+03 1.780e+03].\nReshape your data either using array.reshape(-1, 1) if your data has a single feature or array.reshape(1, -1) if it contains a single sample.",
     "output_type": "error",
     "traceback": [
      "\u001b[0;31m---------------------------------------------------------------------------\u001b[0m",
      "\u001b[0;31mValueError\u001b[0m                                Traceback (most recent call last)",
      "\u001b[0;32m<ipython-input-8-c37a6190a119>\u001b[0m in \u001b[0;36m<module>\u001b[0;34m()\u001b[0m\n\u001b[1;32m      1\u001b[0m \u001b[0mprint\u001b[0m\u001b[0;34m(\u001b[0m\u001b[0;34m\"x.shape = {}\"\u001b[0m\u001b[0;34m.\u001b[0m\u001b[0mformat\u001b[0m\u001b[0;34m(\u001b[0m\u001b[0mx\u001b[0m\u001b[0;34m.\u001b[0m\u001b[0mshape\u001b[0m\u001b[0;34m)\u001b[0m\u001b[0;34m)\u001b[0m\u001b[0;34m\u001b[0m\u001b[0m\n\u001b[1;32m      2\u001b[0m \u001b[0mprint\u001b[0m\u001b[0;34m(\u001b[0m\u001b[0;34m\"y.shape = {}\"\u001b[0m\u001b[0;34m.\u001b[0m\u001b[0mformat\u001b[0m\u001b[0;34m(\u001b[0m\u001b[0my\u001b[0m\u001b[0;34m.\u001b[0m\u001b[0mshape\u001b[0m\u001b[0;34m)\u001b[0m\u001b[0;34m)\u001b[0m\u001b[0;34m\u001b[0m\u001b[0m\n\u001b[0;32m----> 3\u001b[0;31m \u001b[0mmodel\u001b[0m \u001b[0;34m=\u001b[0m \u001b[0mregressor\u001b[0m\u001b[0;34m.\u001b[0m\u001b[0mfit\u001b[0m\u001b[0;34m(\u001b[0m\u001b[0mx\u001b[0m\u001b[0;34m,\u001b[0m\u001b[0my\u001b[0m\u001b[0;34m)\u001b[0m\u001b[0;34m\u001b[0m\u001b[0m\n\u001b[0m",
      "\u001b[0;32m/usr/local/lib/python3.6/dist-packages/sklearn/linear_model/base.py\u001b[0m in \u001b[0;36mfit\u001b[0;34m(self, X, y, sample_weight)\u001b[0m\n\u001b[1;32m    480\u001b[0m         \u001b[0mn_jobs_\u001b[0m \u001b[0;34m=\u001b[0m \u001b[0mself\u001b[0m\u001b[0;34m.\u001b[0m\u001b[0mn_jobs\u001b[0m\u001b[0;34m\u001b[0m\u001b[0m\n\u001b[1;32m    481\u001b[0m         X, y = check_X_y(X, y, accept_sparse=['csr', 'csc', 'coo'],\n\u001b[0;32m--> 482\u001b[0;31m                          y_numeric=True, multi_output=True)\n\u001b[0m\u001b[1;32m    483\u001b[0m \u001b[0;34m\u001b[0m\u001b[0m\n\u001b[1;32m    484\u001b[0m         \u001b[0;32mif\u001b[0m \u001b[0msample_weight\u001b[0m \u001b[0;32mis\u001b[0m \u001b[0;32mnot\u001b[0m \u001b[0;32mNone\u001b[0m \u001b[0;32mand\u001b[0m \u001b[0mnp\u001b[0m\u001b[0;34m.\u001b[0m\u001b[0matleast_1d\u001b[0m\u001b[0;34m(\u001b[0m\u001b[0msample_weight\u001b[0m\u001b[0;34m)\u001b[0m\u001b[0;34m.\u001b[0m\u001b[0mndim\u001b[0m \u001b[0;34m>\u001b[0m \u001b[0;36m1\u001b[0m\u001b[0;34m:\u001b[0m\u001b[0;34m\u001b[0m\u001b[0m\n",
      "\u001b[0;32m/usr/local/lib/python3.6/dist-packages/sklearn/utils/validation.py\u001b[0m in \u001b[0;36mcheck_X_y\u001b[0;34m(X, y, accept_sparse, dtype, order, copy, force_all_finite, ensure_2d, allow_nd, multi_output, ensure_min_samples, ensure_min_features, y_numeric, warn_on_dtype, estimator)\u001b[0m\n\u001b[1;32m    571\u001b[0m     X = check_array(X, accept_sparse, dtype, order, copy, force_all_finite,\n\u001b[1;32m    572\u001b[0m                     \u001b[0mensure_2d\u001b[0m\u001b[0;34m,\u001b[0m \u001b[0mallow_nd\u001b[0m\u001b[0;34m,\u001b[0m \u001b[0mensure_min_samples\u001b[0m\u001b[0;34m,\u001b[0m\u001b[0;34m\u001b[0m\u001b[0m\n\u001b[0;32m--> 573\u001b[0;31m                     ensure_min_features, warn_on_dtype, estimator)\n\u001b[0m\u001b[1;32m    574\u001b[0m     \u001b[0;32mif\u001b[0m \u001b[0mmulti_output\u001b[0m\u001b[0;34m:\u001b[0m\u001b[0;34m\u001b[0m\u001b[0m\n\u001b[1;32m    575\u001b[0m         y = check_array(y, 'csr', force_all_finite=True, ensure_2d=False,\n",
      "\u001b[0;32m/usr/local/lib/python3.6/dist-packages/sklearn/utils/validation.py\u001b[0m in \u001b[0;36mcheck_array\u001b[0;34m(array, accept_sparse, dtype, order, copy, force_all_finite, ensure_2d, allow_nd, ensure_min_samples, ensure_min_features, warn_on_dtype, estimator)\u001b[0m\n\u001b[1;32m    439\u001b[0m                     \u001b[0;34m\"Reshape your data either using array.reshape(-1, 1) if \"\u001b[0m\u001b[0;34m\u001b[0m\u001b[0m\n\u001b[1;32m    440\u001b[0m                     \u001b[0;34m\"your data has a single feature or array.reshape(1, -1) \"\u001b[0m\u001b[0;34m\u001b[0m\u001b[0m\n\u001b[0;32m--> 441\u001b[0;31m                     \"if it contains a single sample.\".format(array))\n\u001b[0m\u001b[1;32m    442\u001b[0m             \u001b[0marray\u001b[0m \u001b[0;34m=\u001b[0m \u001b[0mnp\u001b[0m\u001b[0;34m.\u001b[0m\u001b[0matleast_2d\u001b[0m\u001b[0;34m(\u001b[0m\u001b[0marray\u001b[0m\u001b[0;34m)\u001b[0m\u001b[0;34m\u001b[0m\u001b[0m\n\u001b[1;32m    443\u001b[0m             \u001b[0;31m# To ensure that array flags are maintained\u001b[0m\u001b[0;34m\u001b[0m\u001b[0;34m\u001b[0m\u001b[0m\n",
      "\u001b[0;31mValueError\u001b[0m: Expected 2D array, got 1D array instead:\narray=[1.520e+03 5.660e+02 9.140e+02 1.022e+03 1.912e+03 6.300e+02 1.479e+03\n 1.166e+03 1.160e+03 1.336e+03 7.350e+02 2.308e+03 1.839e+03 1.510e+03\n 1.026e+03 1.215e+03 1.779e+03 1.200e+03 8.620e+02 9.420e+02 1.471e+03\n 1.421e+03 1.128e+03 1.918e+03 3.200e+03 1.300e+03 9.970e+02 1.308e+03\n 3.200e+03 1.093e+03 7.440e+02 1.170e+03 1.050e+03 1.282e+03 1.656e+03\n 8.340e+02 1.049e+03 1.525e+03 1.500e+03 1.430e+03 1.496e+03 1.523e+03\n 2.475e+03 8.900e+02 2.700e+03 1.315e+03 1.475e+03 1.805e+03 1.695e+03\n 1.852e+03 8.060e+02 4.418e+03 2.137e+03 3.157e+03 2.500e+03 1.810e+03\n 1.788e+03 3.221e+03 2.628e+03 2.720e+03 1.299e+03 6.240e+02 2.050e+03\n 5.203e+03 6.900e+02 1.099e+03 2.300e+03 1.308e+03 6.260e+02 1.132e+03\n 7.420e+02 1.838e+03 1.009e+03 1.284e+03 1.170e+03 1.820e+03 1.270e+03\n 2.330e+03 1.980e+03 2.050e+03 2.478e+03 6.762e+03 1.686e+03 1.439e+03\n 1.785e+03 1.024e+03 9.290e+02 6.383e+03 5.000e+02 8.450e+02 1.021e+03\n 1.886e+03 9.370e+02 2.000e+03 7.640e+02 8.300e+02 6.640e+02 1.213e+03\n 8.670e+02 6.290e+02 6.650e+02 7.950e+02 5.000e+02 4.190e+02 1.004e+03\n 8.440e+02 1.175e+03 1.373e+03 9.320e+02 1.900e+03 2.898e+03 1.117e+03\n 6.825e+03 3.865e+03 6.800e+02 9.650e+02 1.823e+03 9.440e+02 4.730e+03\n 9.000e+02 2.345e+03 4.210e+03 5.003e+03 9.680e+02 1.650e+03 1.680e+03\n 1.400e+03 1.250e+03 2.917e+03 2.433e+03 8.000e+02 2.550e+03 1.400e+03\n 6.780e+02 4.890e+02 4.850e+02 5.940e+02 3.850e+02 6.250e+02 8.810e+02\n 2.320e+03 1.330e+03 1.600e+03 1.838e+03 8.000e+02 1.025e+03 1.245e+03\n 2.416e+03 9.000e+02 9.010e+02 1.075e+03 1.319e+03 2.560e+03 1.442e+03\n 1.926e+03 2.914e+03 1.430e+03 8.920e+02 5.680e+02 3.915e+03 2.100e+03\n 1.900e+03 9.250e+02 2.800e+03 1.870e+03 2.988e+03 2.490e+03 2.400e+03\n 1.970e+03 2.342e+03 1.299e+03 6.000e+02 1.593e+03 3.282e+03 2.260e+03\n 2.790e+03 2.337e+03 3.687e+03 2.765e+03 1.115e+03 6.187e+03 1.870e+03\n 1.790e+03 1.600e+03 1.510e+03 8.400e+02 1.793e+03 6.750e+02 1.300e+03\n 1.360e+03 9.260e+02 1.003e+03 3.525e+03 1.211e+03 1.812e+03 1.185e+03\n 1.767e+03 1.250e+03 1.590e+03 1.212e+03 1.156e+03 1.342e+03 1.318e+03\n 1.080e+03 1.140e+03 1.414e+03 1.156e+03 1.115e+03 6.700e+02 1.018e+03\n 1.910e+03 1.419e+03 1.605e+03 1.216e+03 1.780e+03 7.950e+02 6.700e+02\n 7.100e+02 1.882e+03 1.189e+03 1.203e+03 1.395e+03 9.720e+02 2.685e+03\n 1.181e+03 1.161e+03 1.189e+03 2.126e+03 9.430e+02 1.000e+00 2.706e+03\n 1.360e+03 4.950e+02 1.582e+03 1.058e+03 3.960e+03 2.253e+03 9.060e+02\n 7.820e+02 1.184e+03 8.230e+02 3.755e+03 9.600e+02 1.100e+03 1.547e+03\n 2.903e+03 1.256e+03 1.526e+03 6.180e+02 7.430e+02 8.840e+02 1.092e+03\n 7.070e+02 8.690e+02 9.030e+02 8.660e+02 5.360e+02 7.690e+02 2.027e+03\n 6.560e+02 7.750e+02 1.579e+03 1.755e+03 1.560e+03 1.541e+03 1.450e+03\n 2.663e+03 1.688e+03 9.600e+02 1.350e+03 1.690e+03 1.780e+03 1.382e+03\n 2.221e+03 2.357e+03 9.000e+02 1.790e+03 2.425e+03 8.300e+02 1.500e+03\n 1.189e+03 1.250e+03 1.325e+03 7.500e+02 3.168e+03 7.460e+02 1.782e+03\n 1.892e+03 9.180e+02 1.560e+03 1.181e+03 1.823e+03 1.747e+03 2.500e+03\n 6.530e+02 1.947e+03 1.708e+03 1.314e+03 2.189e+03 8.250e+02 1.223e+03\n 1.638e+03 1.308e+03 9.890e+02 1.500e+03 1.131e+03 1.630e+03 7.830e+02\n 2.937e+03 6.730e+02 9.000e+02 1.912e+03 1.198e+03 2.929e+03 3.256e+03\n 1.024e+03 1.100e+03 2.677e+03 6.480e+02 5.000e+02 6.030e+02 9.200e+02\n 1.542e+03 1.826e+03 6.070e+02 8.280e+02 1.073e+03 2.898e+03 1.225e+03\n 5.580e+02 5.920e+02 2.345e+03 9.000e+02 9.460e+02 8.420e+02 1.915e+03\n 9.480e+02 2.133e+03 1.400e+03 1.212e+03 2.030e+03 1.250e+03 1.500e+03\n 1.400e+03 2.658e+03 4.040e+02 1.100e+03 6.690e+02 1.193e+03 1.681e+03\n 9.370e+02 6.600e+02 7.500e+02 1.180e+03 1.616e+03 6.720e+02 3.910e+02\n 8.900e+02 1.125e+03 6.310e+02 9.000e+02 9.010e+02 3.994e+03 2.178e+03\n 2.695e+03 1.422e+03 2.000e+03 5.680e+02 7.850e+02 7.850e+02 1.600e+03\n 1.280e+03 1.384e+03 1.340e+03 1.868e+03 1.042e+03 2.790e+03 2.760e+03\n 1.834e+03 7.000e+02 1.050e+03 1.590e+03 1.024e+03 1.155e+03 1.187e+03\n 8.400e+02 8.540e+02 4.740e+02 6.500e+02 1.187e+03 7.780e+02 6.460e+02\n 9.760e+02 1.204e+03 2.151e+03 1.812e+03 9.030e+02 1.145e+03 1.735e+03\n 1.694e+03 1.612e+03 1.058e+03 8.750e+02 1.407e+03 8.070e+02 5.500e+02\n 1.525e+03 1.007e+03 1.500e+03 1.063e+03 1.675e+03 1.850e+03 1.958e+03\n 1.170e+03 8.140e+02 1.676e+03 7.380e+02 8.320e+02 5.360e+02 2.045e+03\n 1.505e+03 2.433e+03 1.640e+03 1.690e+03 9.650e+02 1.423e+03 1.531e+03\n 1.694e+03 1.895e+03 1.240e+03 1.580e+03 1.375e+03 1.850e+03 9.560e+02\n 1.113e+03 2.200e+03 1.300e+03 1.810e+03 2.360e+03 1.290e+03 1.626e+03\n 2.300e+03 1.099e+03 8.370e+02 2.528e+03 1.067e+03 1.067e+03 7.400e+02\n 9.980e+02 6.500e+02 5.400e+02 1.330e+03 1.024e+03 2.196e+03 1.587e+03\n 1.565e+03 9.370e+02 1.220e+03 1.692e+03 3.865e+03 1.398e+03 1.170e+03\n 1.730e+03 2.100e+03 1.325e+03 2.393e+03 1.625e+03 1.200e+03 1.440e+03\n 1.300e+03 2.189e+03 3.280e+03 8.370e+02 9.480e+02 5.940e+02 3.200e+03\n 1.024e+03 1.251e+03 1.108e+03 1.785e+03 9.760e+02 1.199e+03 1.550e+03\n 1.600e+03 2.700e+03 2.300e+03 1.000e+03 1.780e+03 1.763e+03 1.470e+03\n 1.668e+03 1.450e+03 6.130e+02 8.400e+02 1.533e+03 1.032e+03 8.500e+02\n 1.317e+03 1.310e+03 1.780e+03 1.583e+03 1.602e+03 2.328e+03 1.256e+03\n 1.625e+03 8.500e+02 1.284e+03 1.001e+03 1.243e+03 6.700e+02 1.600e+03\n 1.560e+03 1.690e+03 1.780e+03].\nReshape your data either using array.reshape(-1, 1) if your data has a single feature or array.reshape(1, -1) if it contains a single sample."
     ]
    }
   ],
   "source": [
    "print(\"x.shape = {}\".format(x.shape))\n",
    "print(\"y.shape = {}\".format(y.shape))\n",
    "model = regressor.fit(x,y)"
   ]
  },
  {
   "cell_type": "markdown",
   "metadata": {},
   "source": [
    "We get:  \n",
    "`ValueError: Expected 2D array, got 1D array instead`  \n",
    "Let's reshape our data to 2D `numpy.ndarray`"
   ]
  },
  {
   "cell_type": "code",
   "execution_count": 9,
   "metadata": {},
   "outputs": [],
   "source": [
    "num_samples = len(x)\n",
    "assert len(x) == len(y) # be sure we have the same number of training samples as target samples\n",
    "num_features = 1 # only a single feature, sqft\n",
    "x_np = x.values.reshape((num_samples, num_features))\n",
    "y_np = y.values.reshape((num_samples, 1))"
   ]
  },
  {
   "cell_type": "code",
   "execution_count": 10,
   "metadata": {},
   "outputs": [
    {
     "name": "stdout",
     "output_type": "stream",
     "text": [
      "x_np.shape = (514, 1)\n",
      "y_np.shape = (514, 1)\n"
     ]
    }
   ],
   "source": [
    "print(\"x_np.shape = {}\".format(x_np.shape))\n",
    "print(\"y_np.shape = {}\".format(y_np.shape))\n",
    "model = regressor.fit(x_np, y_np)"
   ]
  },
  {
   "cell_type": "markdown",
   "metadata": {},
   "source": [
    "The regressor has been fit to our training data and saved into a variable named `model`.  \n",
    "Now we can call `predict()` to predict `price` for a given `sqft`. For illustrative purposes we will predict on the same data we trained on"
   ]
  },
  {
   "cell_type": "markdown",
   "metadata": {},
   "source": [
    "We can evaluate the performance of a given model using Scikit-Learn `mean_square_error` and `LinearRegression.score()` function"
   ]
  },
  {
   "cell_type": "code",
   "execution_count": 11,
   "metadata": {},
   "outputs": [
    {
     "name": "stdout",
     "output_type": "stream",
     "text": [
      "Mean Squared Error: 418571590611.2379\n",
      "Accuracy: 63.75250763108329%\n"
     ]
    }
   ],
   "source": [
    "def evaluate_model(model, X, y):\n",
    "    y_pred = model.predict(X) # predict y values from input X\n",
    "    mse = mean_squared_error(y_true=y, y_pred=y_pred)\n",
    "    print(\"Mean Squared Error: {}\".format(mse))\n",
    "    print(\"Accuracy: {}%\".format(model.score(X, y)*100.0))\n",
    "evaluate_model(model, x_np, y_np)"
   ]
  },
  {
   "cell_type": "markdown",
   "metadata": {},
   "source": [
    "As our model improves we expect the MSE to decrease and Accuracy to increase."
   ]
  },
  {
   "cell_type": "markdown",
   "metadata": {},
   "source": [
    "Let's try on a brand new input from https://www.zillow.com/homes/for_sale/San-Francisco-CA/"
   ]
  },
  {
   "cell_type": "code",
   "execution_count": 14,
   "metadata": {},
   "outputs": [
    {
     "name": "stdout",
     "output_type": "stream",
     "text": [
      "predicted price: $0.832207697355416M\n",
      "actual price: $583,000\n"
     ]
    }
   ],
   "source": [
    "# try brand new data\n",
    "actual_price = '$583,000'\n",
    "sqft = 800\n",
    "new_df = pd.DataFrame(data=[sqft])\n",
    "predicted_price = model.predict(new_df)\n",
    "print(\"predicted price: ${}M\".format(predicted_price[0][0]/1e6))\n",
    "print(\"actual price: {}\".format(actual_price))"
   ]
  },
  {
   "cell_type": "markdown",
   "metadata": {},
   "source": [
    "Plot the predicted values (red) and actual values (blue) on the same graph"
   ]
  },
  {
   "cell_type": "code",
   "execution_count": 13,
   "metadata": {
    "scrolled": false
   },
   "outputs": [
    {
     "data": {
      "text/plain": [
       "<matplotlib.axes._subplots.AxesSubplot at 0x7fde408dceb8>"
      ]
     },
     "execution_count": 13,
     "metadata": {},
     "output_type": "execute_result"
    },
    {
     "data": {
      "image/png": "[encoded data removed]",
      "text/plain": [
       "<Figure size 864x576 with 1 Axes>"
      ]
     },
     "metadata": {},
     "output_type": "display_data"
    }
   ],
   "source": [
    "y_pred = model.predict(x_np) # predict y values from input X\n",
    "sns.regplot(x_np, y_np, fit_reg=False, color='red')\n",
    "sns.regplot(x_np, y_pred, fit_reg=False, color='blue')"
   ]
  },
  {
   "cell_type": "markdown",
   "metadata": {},
   "source": [
    "Our model looks like it has fit nicely to the data!  \n",
    "One immediate drawback you may notice is that the predictions are constrained to the regression line which results in a large error for many inputs.  \n",
    "Even more importantly: we have many more features other than `sqft` which can help predict `price`.\n",
    "We address these problems in the next notebook by introducing **multiple linear regression**."
   ]
  },
  {
   "cell_type": "markdown",
   "metadata": {},
   "source": [
    "## Model Validation\n",
    "In the above example we trained and tested our model with the same dataset. In practice this is a **big** mistake. We will get false confidence in our model's performance since we didn't validate the it's ability to generalize to new, unseen data from outside of the training set.  \n",
    "This inability to generalize is called [overfitting] and is one of the most frequently occuring problems in ML.  \n",
    "  \n",
    "New data is typically hard to come by but we can do our best to avoid overfitting by \"holding out\" some of our training data as *validation* data. Hopefully our dataset is diverse enough that random sampling a validation dataset can properly represent new, unseen test data.\n",
    "[overfitting]: https://en.wikipedia.org/wiki/Overfitting"
   ]
  },
  {
   "cell_type": "markdown",
   "metadata": {},
   "source": [
    "## TODO: Maybe we add another notebook on Cross validation schemes?"
   ]
  },
  {
   "cell_type": "markdown",
   "metadata": {},
   "source": [
    "Use Scikit-Learn's `train_test_split()` to divide our dataset into *training* and *validation* data.  \n",
    "A good rule of thumb is 70% training, 30% validation."
   ]
  },
  {
   "cell_type": "code",
   "execution_count": 15,
   "metadata": {},
   "outputs": [],
   "source": [
    "x_train, x_val, y_train, y_val = train_test_split(x_np, \n",
    "                                                  y_np, \n",
    "                                                  test_size=0.30, \n",
    "                                                  random_state=123) # split 70% train, 30% validation"
   ]
  },
  {
   "cell_type": "markdown",
   "metadata": {},
   "source": [
    "Fit the model to our training set and evaluate using our validation set"
   ]
  },
  {
   "cell_type": "code",
   "execution_count": 16,
   "metadata": {},
   "outputs": [
    {
     "name": "stdout",
     "output_type": "stream",
     "text": [
      "Mean Squared Error: 369418188551.6969\n",
      "Accuracy: 59.361117697240815%\n"
     ]
    }
   ],
   "source": [
    "model= regressor.fit(x_train, y_train)\n",
    "evaluate_model(model, x_val, y_val)"
   ]
  },
  {
   "cell_type": "markdown",
   "metadata": {},
   "source": [
    "The results are very similar to before, however don't expect to get this lucky in practice!  \n",
    "Let's save our model using Python's built-in persistence library `pickle`. That way we can compare results with more complex models in a future notebook."
   ]
  },
  {
   "cell_type": "markdown",
   "metadata": {},
   "source": [
    "Since we are reasonably confident our model is not overfitting, let's retrain on the entire dataset before saving"
   ]
  },
  {
   "cell_type": "code",
   "execution_count": 17,
   "metadata": {},
   "outputs": [],
   "source": [
    "model= regressor.fit(x_np, y_np)"
   ]
  },
  {
   "cell_type": "code",
   "execution_count": 18,
   "metadata": {},
   "outputs": [],
   "source": [
    "import pickle\n",
    "with open('./models/sf/simple_linear.pkl', 'wb') as f:\n",
    "    pickle.dump(model, f)"
   ]
  },
  {
   "cell_type": "markdown",
   "metadata": {},
   "source": [
    "We can reload the model with:"
   ]
  },
  {
   "cell_type": "code",
   "execution_count": 19,
   "metadata": {},
   "outputs": [
    {
     "name": "stdout",
     "output_type": "stream",
     "text": [
      "Mean Squared Error: 368582741690.3204\n",
      "Accuracy: 59.45302336870437%\n"
     ]
    }
   ],
   "source": [
    "with open('./models/sf/simple_linear.pkl', 'rb') as f:\n",
    "    model_load = pickle.load(f)\n",
    "evaluate_model(model_load, x_val, y_val)"
   ]
  },
  {
   "cell_type": "markdown",
   "metadata": {},
   "source": [
    "## We are done with Linear Regression. Let's see if we can improve our model accuracy by including more features!"
   ]
  },
  {
   "cell_type": "code",
   "execution_count": null,
   "metadata": {},
   "outputs": [],
   "source": []
  }
 ],
 "metadata": {
  "kernelspec": {
   "display_name": "Python 3",
   "language": "python",
   "name": "python3"
  },
  "language_info": {
   "codemirror_mode": {
    "name": "ipython",
    "version": 3
   },
   "file_extension": ".py",
   "mimetype": "text/x-python",
   "name": "python",
   "nbconvert_exporter": "python",
   "pygments_lexer": "ipython3",
   "version": "3.6.3"
  }
 },
 "nbformat": 4,
 "nbformat_minor": 2
}
