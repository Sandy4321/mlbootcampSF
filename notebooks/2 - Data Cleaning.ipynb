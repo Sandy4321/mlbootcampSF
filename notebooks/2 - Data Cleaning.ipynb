{
 "cells": [
  {
   "cell_type": "markdown",
   "metadata": {},
   "source": [
    "## Part 2 - Data Cleaning\n",
    "During our EDA we encountered some variables with incomplete or corrupted data.  \n",
    "In this notebook we will use Pandas to:\n",
    "* Remove outliers  \n",
    "* Handle missing, null or corrupted values  "
   ]
  },
  {
   "cell_type": "code",
   "execution_count": 52,
   "metadata": {},
   "outputs": [],
   "source": [
    "import time\n",
    "from tqdm import tqdm\n",
    "import numpy as np\n",
    "import pandas as pd\n",
    "import matplotlib.pyplot as plt\n",
    "import seaborn as sns\n",
    "from geopy import Nominatim\n",
    "import geojson\n",
    "import folium\n",
    "from branca.colormap import LinearColormap, StepColormap\n",
    "\n",
    "%matplotlib inline"
   ]
  },
  {
   "cell_type": "markdown",
   "metadata": {},
   "source": [
    "## Preview the data "
   ]
  },
  {
   "cell_type": "code",
   "execution_count": 53,
   "metadata": {
    "scrolled": true
   },
   "outputs": [
    {
     "data": {
      "text/html": [
       "<div>\n",
       "<style scoped>\n",
       "    .dataframe tbody tr th:only-of-type {\n",
       "        vertical-align: middle;\n",
       "    }\n",
       "\n",
       "    .dataframe tbody tr th {\n",
       "        vertical-align: top;\n",
       "    }\n",
       "\n",
       "    .dataframe thead th {\n",
       "        text-align: right;\n",
       "    }\n",
       "</style>\n",
       "<table border=\"1\" class=\"dataframe\">\n",
       "  <thead>\n",
       "    <tr style=\"text-align: right;\">\n",
       "      <th></th>\n",
       "      <th>title</th>\n",
       "      <th>address</th>\n",
       "      <th>city</th>\n",
       "      <th>state</th>\n",
       "      <th>postal_code</th>\n",
       "      <th>price</th>\n",
       "      <th>facts and features</th>\n",
       "      <th>real estate provider</th>\n",
       "      <th>url</th>\n",
       "      <th>bed</th>\n",
       "      <th>bath</th>\n",
       "      <th>sqft</th>\n",
       "      <th>property_type</th>\n",
       "      <th>latlng</th>\n",
       "    </tr>\n",
       "  </thead>\n",
       "  <tbody>\n",
       "    <tr>\n",
       "      <th>0</th>\n",
       "      <td>Condo For Sale</td>\n",
       "      <td>550 Davis St UNIT 44</td>\n",
       "      <td>San Francisco</td>\n",
       "      <td>CA</td>\n",
       "      <td>94111</td>\n",
       "      <td>1995000.0</td>\n",
       "      <td>3 bds , 2 ba , 1,520 sqft</td>\n",
       "      <td>Sotheby's International Realty</td>\n",
       "      <td>https://www.zillow.com/homedetails/550-Davis-S...</td>\n",
       "      <td>3.0</td>\n",
       "      <td>2.0</td>\n",
       "      <td>1520.0</td>\n",
       "      <td>condo</td>\n",
       "      <td>NaN</td>\n",
       "    </tr>\n",
       "    <tr>\n",
       "      <th>1</th>\n",
       "      <td>Condo For Sale</td>\n",
       "      <td>240 Lombard St APT 437</td>\n",
       "      <td>San Francisco</td>\n",
       "      <td>CA</td>\n",
       "      <td>94111</td>\n",
       "      <td>625000.0</td>\n",
       "      <td>1 bd , 1 ba , 566 sqft</td>\n",
       "      <td>SimpleListing.com</td>\n",
       "      <td>https://www.zillow.com/homedetails/240-Lombard...</td>\n",
       "      <td>1.0</td>\n",
       "      <td>1.0</td>\n",
       "      <td>566.0</td>\n",
       "      <td>condo</td>\n",
       "      <td>NaN</td>\n",
       "    </tr>\n",
       "    <tr>\n",
       "      <th>2</th>\n",
       "      <td>Condo For Sale</td>\n",
       "      <td>550 Davis St UNIT 39</td>\n",
       "      <td>San Francisco</td>\n",
       "      <td>CA</td>\n",
       "      <td>94111</td>\n",
       "      <td>1196000.0</td>\n",
       "      <td>1 bd , 1 ba , 914 sqft</td>\n",
       "      <td>NaN</td>\n",
       "      <td>https://www.zillow.com/homedetails/550-Davis-S...</td>\n",
       "      <td>1.0</td>\n",
       "      <td>1.0</td>\n",
       "      <td>914.0</td>\n",
       "      <td>condo</td>\n",
       "      <td>NaN</td>\n",
       "    </tr>\n",
       "    <tr>\n",
       "      <th>3</th>\n",
       "      <td>Condo For Sale</td>\n",
       "      <td>77 Dow Pl APT 701</td>\n",
       "      <td>San Francisco</td>\n",
       "      <td>CA</td>\n",
       "      <td>94107</td>\n",
       "      <td>935000.0</td>\n",
       "      <td>1 bd , 1.5 ba , 1,022 sqft</td>\n",
       "      <td>Vanguard Properties</td>\n",
       "      <td>https://www.zillow.com/homedetails/77-Dow-Pl-A...</td>\n",
       "      <td>1.0</td>\n",
       "      <td>1.5</td>\n",
       "      <td>1022.0</td>\n",
       "      <td>condo</td>\n",
       "      <td>NaN</td>\n",
       "    </tr>\n",
       "    <tr>\n",
       "      <th>4</th>\n",
       "      <td>House For Sale</td>\n",
       "      <td>807 Francisco St</td>\n",
       "      <td>San Francisco</td>\n",
       "      <td>CA</td>\n",
       "      <td>94109</td>\n",
       "      <td>16900000.0</td>\n",
       "      <td>6 bds , 6.5 ba , 6,180 sqft</td>\n",
       "      <td>Compass</td>\n",
       "      <td>https://www.zillow.com/homedetails/807-Francis...</td>\n",
       "      <td>6.0</td>\n",
       "      <td>6.5</td>\n",
       "      <td>6180.0</td>\n",
       "      <td>house</td>\n",
       "      <td>(37.8038257453414, -122.41844925566)</td>\n",
       "    </tr>\n",
       "  </tbody>\n",
       "</table>\n",
       "</div>"
      ],
      "text/plain": [
       "            title                 address           city state  postal_code  \\\n",
       "0  Condo For Sale    550 Davis St UNIT 44  San Francisco    CA        94111   \n",
       "1  Condo For Sale  240 Lombard St APT 437  San Francisco    CA        94111   \n",
       "2  Condo For Sale    550 Davis St UNIT 39  San Francisco    CA        94111   \n",
       "3  Condo For Sale       77 Dow Pl APT 701  San Francisco    CA        94107   \n",
       "4  House For Sale        807 Francisco St  San Francisco    CA        94109   \n",
       "\n",
       "        price           facts and features            real estate provider  \\\n",
       "0   1995000.0    3 bds , 2 ba , 1,520 sqft  Sotheby's International Realty   \n",
       "1    625000.0       1 bd , 1 ba , 566 sqft               SimpleListing.com   \n",
       "2   1196000.0       1 bd , 1 ba , 914 sqft                             NaN   \n",
       "3    935000.0   1 bd , 1.5 ba , 1,022 sqft             Vanguard Properties   \n",
       "4  16900000.0  6 bds , 6.5 ba , 6,180 sqft                         Compass   \n",
       "\n",
       "                                                 url  bed  bath    sqft  \\\n",
       "0  https://www.zillow.com/homedetails/550-Davis-S...  3.0   2.0  1520.0   \n",
       "1  https://www.zillow.com/homedetails/240-Lombard...  1.0   1.0   566.0   \n",
       "2  https://www.zillow.com/homedetails/550-Davis-S...  1.0   1.0   914.0   \n",
       "3  https://www.zillow.com/homedetails/77-Dow-Pl-A...  1.0   1.5  1022.0   \n",
       "4  https://www.zillow.com/homedetails/807-Francis...  6.0   6.5  6180.0   \n",
       "\n",
       "  property_type                                latlng  \n",
       "0         condo                                   NaN  \n",
       "1         condo                                   NaN  \n",
       "2         condo                                   NaN  \n",
       "3         condo                                   NaN  \n",
       "4         house  (37.8038257453414, -122.41844925566)  "
      ]
     },
     "execution_count": 53,
     "metadata": {},
     "output_type": "execute_result"
    }
   ],
   "source": [
    "df_dirty = pd.read_csv('./data/sf/data.csv')\n",
    "df_dirty.head(5) # display first 5 entries of DataFrame"
   ]
  },
  {
   "cell_type": "markdown",
   "metadata": {},
   "source": [
    "## Remove outliers\n",
    "Recall from our EDA that our price data has outliers which result in high skewness and kurtosis values."
   ]
  },
  {
   "cell_type": "code",
   "execution_count": 54,
   "metadata": {},
   "outputs": [
    {
     "name": "stderr",
     "output_type": "stream",
     "text": [
      "/usr/local/lib/python3.6/dist-packages/matplotlib/axes/_axes.py:6448: UserWarning: The 'normed' kwarg is deprecated, and has been replaced by the 'density' kwarg.\n",
      "  warnings.warn(\"The 'normed' kwarg is deprecated, and has been \"\n"
     ]
    },
    {
     "name": "stdout",
     "output_type": "stream",
     "text": [
      "Skewness: 4.273490547566425\n",
      "Kurtosis: 24.274132451312706\n"
     ]
    },
    {
     "data": {
      "image/png": "[encoded data removed]",
      "text/plain": [
       "<Figure size 864x576 with 1 Axes>"
      ]
     },
     "metadata": {},
     "output_type": "display_data"
    }
   ],
   "source": [
    "# globally set our seaborn plot size to 12 by 8 inches:\n",
    "sns.set(rc={'figure.figsize':(12, 8)})\n",
    "\n",
    "def plot_prices(dataframe: pd.DataFrame, bins: list):\n",
    "    fig, ax = plt.subplots()\n",
    "    ax.set_xticks(bins)\n",
    "    plt.xticks(rotation='vertical')\n",
    "    return sns.distplot(dataframe.price, bins=bins)\n",
    "\n",
    "bins = range(int(df_dirty.price.min()),int(df_dirty.price.max()),500000)\n",
    "bins\n",
    "plot_prices(df_dirty.dropna(), bins)\n",
    "print(f'Skewness: {df_dirty.price.skew()}')\n",
    "print(f'Kurtosis: {df_dirty.price.kurt()}')"
   ]
  },
  {
   "cell_type": "code",
   "execution_count": 55,
   "metadata": {},
   "outputs": [],
   "source": [
    "cutoff = 8e6\n",
    "df_clean = df_dirty[df_dirty['price'] <= cutoff]"
   ]
  },
  {
   "cell_type": "code",
   "execution_count": 56,
   "metadata": {},
   "outputs": [
    {
     "name": "stderr",
     "output_type": "stream",
     "text": [
      "/usr/local/lib/python3.6/dist-packages/matplotlib/axes/_axes.py:6448: UserWarning: The 'normed' kwarg is deprecated, and has been replaced by the 'density' kwarg.\n",
      "  warnings.warn(\"The 'normed' kwarg is deprecated, and has been \"\n"
     ]
    },
    {
     "name": "stdout",
     "output_type": "stream",
     "text": [
      "Skewness: 2.069487\n",
      "Kurtosis: 4.503858\n"
     ]
    },
    {
     "data": {
      "image/png": "[encoded data removed]",
      "text/plain": [
       "<Figure size 864x576 with 1 Axes>"
      ]
     },
     "metadata": {},
     "output_type": "display_data"
    }
   ],
   "source": [
    "bins = range(int(df_clean.price.min()),int(df_clean.price.max()),500000)\n",
    "plot_prices(df_clean, bins)\n",
    "print(\"Skewness: %f\" % df_clean['price'].skew())\n",
    "print(\"Kurtosis: %f\" % df_clean['price'].kurt())"
   ]
  },
  {
   "cell_type": "markdown",
   "metadata": {},
   "source": [
    "The skewness and kurtosis values have improved. The distribution is still skewed however there are transformations we can apply to the dataset to make it more normally distributed. More on these transformations in a later notebook."
   ]
  },
  {
   "cell_type": "code",
   "execution_count": 57,
   "metadata": {},
   "outputs": [
    {
     "name": "stdout",
     "output_type": "stream",
     "text": [
      "There are 1 entries with zero sqft\n"
     ]
    }
   ],
   "source": [
    "num_zero_sqft = (df_dirty['sqft'] < 10).sum()\n",
    "print(\"There are {} entries with zero sqft\".format(num_zero_sqft))"
   ]
  },
  {
   "cell_type": "code",
   "execution_count": 58,
   "metadata": {},
   "outputs": [
    {
     "name": "stdout",
     "output_type": "stream",
     "text": [
      "There are 0 entries with zero sqft\n"
     ]
    }
   ],
   "source": [
    "df_clean = df_dirty[df_dirty['sqft'] > 10]\n",
    "num_zero_sqft = (df_clean['sqft'] < 10).sum()\n",
    "print(\"There are {} entries with zero sqft\".format(num_zero_sqft))"
   ]
  },
  {
   "cell_type": "markdown",
   "metadata": {},
   "source": [
    "## Deal with Null and Missing values"
   ]
  },
  {
   "cell_type": "code",
   "execution_count": 59,
   "metadata": {},
   "outputs": [
    {
     "name": "stdout",
     "output_type": "stream",
     "text": [
      "<class 'pandas.core.frame.DataFrame'>\n",
      "Int64Index: 639 entries, 0 to 698\n",
      "Data columns (total 14 columns):\n",
      "title                   639 non-null object\n",
      "address                 639 non-null object\n",
      "city                    639 non-null object\n",
      "state                   639 non-null object\n",
      "postal_code             639 non-null int64\n",
      "price                   639 non-null float64\n",
      "facts and features      639 non-null object\n",
      "real estate provider    496 non-null object\n",
      "url                     639 non-null object\n",
      "bed                     627 non-null float64\n",
      "bath                    532 non-null float64\n",
      "sqft                    639 non-null float64\n",
      "property_type           632 non-null object\n",
      "latlng                  409 non-null object\n",
      "dtypes: float64(4), int64(1), object(9)\n",
      "memory usage: 74.9+ KB\n"
     ]
    }
   ],
   "source": [
    "df_clean.info()"
   ]
  },
  {
   "cell_type": "code",
   "execution_count": 60,
   "metadata": {},
   "outputs": [
    {
     "data": {
      "image/png": "[encoded data removed]",
      "text/plain": [
       "<Figure size 864x576 with 1 Axes>"
      ]
     },
     "metadata": {},
     "output_type": "display_data"
    },
    {
     "data": {
      "image/png": "[encoded data removed]",
      "text/plain": [
       "<Figure size 864x576 with 1 Axes>"
      ]
     },
     "metadata": {},
     "output_type": "display_data"
    }
   ],
   "source": [
    "missing = df_clean.isnull().sum()\n",
    "missing = missing[missing > 0]\n",
    "missing.sort_values(inplace=True)\n",
    "missing.plot.bar()\n",
    "plt.title(\"Counts of Missing Values\")\n",
    "plt.show()\n",
    "missing_ratio = missing / len(df_clean)\n",
    "missing_ratio.plot.bar()\n",
    "plt.title(\"Ratio of Missing Values\")\n",
    "plt.show()"
   ]
  },
  {
   "cell_type": "markdown",
   "metadata": {},
   "source": [
    "First, we will choose to remove the `latlng` column completely. Although there may be some use cases for this data (eg. find distance to nearby schools, parks, etc.) we will remove it and keep the `postal_code` column as our location data.  \n",
    "We will also remove `real estate provider` since there are too many unique values."
   ]
  },
  {
   "cell_type": "code",
   "execution_count": 61,
   "metadata": {},
   "outputs": [
    {
     "name": "stdout",
     "output_type": "stream",
     "text": [
      "Index(['title', 'address', 'city', 'state', 'postal_code', 'price',\n",
      "       'facts and features', 'real estate provider', 'url', 'bed', 'bath',\n",
      "       'sqft', 'property_type', 'latlng'],\n",
      "      dtype='object')\n",
      "Index(['title', 'address', 'city', 'state', 'postal_code', 'price',\n",
      "       'facts and features', 'url', 'bed', 'bath', 'sqft', 'property_type'],\n",
      "      dtype='object')\n"
     ]
    }
   ],
   "source": [
    "print(df_clean.columns)\n",
    "df_clean = df_clean.drop(columns=['latlng', 'real estate provider'])\n",
    "print(df_clean.columns)"
   ]
  },
  {
   "cell_type": "markdown",
   "metadata": {},
   "source": [
    "Now we could choose to drop all rows with null/missing values with `df.dropna()`, but we may benefit from \"imputing\" these values instead:  \n",
    "\n",
    "**Imputation** fills in the missing value with some number. The imputed value won't be exactly right in most cases, but it usually gives more accurate models than dropping the column entirely."
   ]
  },
  {
   "cell_type": "code",
   "execution_count": 64,
   "metadata": {},
   "outputs": [],
   "source": [
    "df_clean_dropna = df_clean.dropna()"
   ]
  },
  {
   "cell_type": "code",
   "execution_count": 79,
   "metadata": {},
   "outputs": [
    {
     "name": "stdout",
     "output_type": "stream",
     "text": [
      "<class 'pandas.core.frame.DataFrame'>\n",
      "Int64Index: 639 entries, 0 to 698\n",
      "Data columns (total 12 columns):\n",
      "title                 639 non-null object\n",
      "address               639 non-null object\n",
      "city                  639 non-null object\n",
      "state                 639 non-null object\n",
      "postal_code           639 non-null int64\n",
      "price                 639 non-null float64\n",
      "facts and features    639 non-null object\n",
      "url                   639 non-null object\n",
      "bed                   639 non-null float64\n",
      "bath                  639 non-null float64\n",
      "sqft                  639 non-null float64\n",
      "property_type         632 non-null object\n",
      "dtypes: float64(4), int64(1), object(7)\n",
      "memory usage: 64.9+ KB\n"
     ]
    }
   ],
   "source": [
    "from sklearn.preprocessing import Imputer\n",
    "df_clean_imputed = df_clean.copy() # copy original for safe keeping\n",
    "columns_to_impute = ['bed', 'bath', 'sqft'] # only impute numerical columns\n",
    "imputer = Imputer(strategy='mean')\n",
    "imputed_columns = imputer.fit_transform(df_clean_imputed[columns_to_impute])\n",
    "df_clean_imputed[columns_to_impute] = imputed_columns\n",
    "df_clean_imputed.info()"
   ]
  },
  {
   "cell_type": "markdown",
   "metadata": {},
   "source": [
    "Now that we have imputed all of the values we can, let's drop the rest of the rows containing null values"
   ]
  },
  {
   "cell_type": "code",
   "execution_count": 80,
   "metadata": {},
   "outputs": [],
   "source": [
    "df_clean_imputed = df_clean_imputed.dropna()"
   ]
  },
  {
   "cell_type": "code",
   "execution_count": 81,
   "metadata": {},
   "outputs": [],
   "source": [
    "df_clean_imputed = df_clean_imputed[df_clean_imputed.postal_code != 94501] "
   ]
  },
  {
   "cell_type": "code",
   "execution_count": 82,
   "metadata": {},
   "outputs": [
    {
     "name": "stdout",
     "output_type": "stream",
     "text": [
      "<class 'pandas.core.frame.DataFrame'>\n",
      "Int64Index: 630 entries, 0 to 698\n",
      "Data columns (total 12 columns):\n",
      "title                 630 non-null object\n",
      "address               630 non-null object\n",
      "city                  630 non-null object\n",
      "state                 630 non-null object\n",
      "postal_code           630 non-null int64\n",
      "price                 630 non-null float64\n",
      "facts and features    630 non-null object\n",
      "url                   630 non-null object\n",
      "bed                   630 non-null float64\n",
      "bath                  630 non-null float64\n",
      "sqft                  630 non-null float64\n",
      "property_type         630 non-null object\n",
      "dtypes: float64(4), int64(1), object(7)\n",
      "memory usage: 64.0+ KB\n"
     ]
    }
   ],
   "source": [
    "df_clean_imputed.info()"
   ]
  },
  {
   "cell_type": "markdown",
   "metadata": {},
   "source": [
    " ## Save the dataframes to .csv"
   ]
  },
  {
   "cell_type": "code",
   "execution_count": 83,
   "metadata": {},
   "outputs": [],
   "source": [
    "df_clean_dropna.to_csv('./data/sf/data_clean_dropna.csv', index=False)\n",
    "df_clean_imputed.to_csv('./data/sf/data_clean_imputed.csv', index=False)"
   ]
  },
  {
   "cell_type": "code",
   "execution_count": null,
   "metadata": {},
   "outputs": [],
   "source": []
  }
 ],
 "metadata": {
  "kernelspec": {
   "display_name": "Python 3",
   "language": "python",
   "name": "python3"
  },
  "language_info": {
   "codemirror_mode": {
    "name": "ipython",
    "version": 3
   },
   "file_extension": ".py",
   "mimetype": "text/x-python",
   "name": "python",
   "nbconvert_exporter": "python",
   "pygments_lexer": "ipython3",
   "version": "3.6.3"
  }
 },
 "nbformat": 4,
 "nbformat_minor": 2
}
