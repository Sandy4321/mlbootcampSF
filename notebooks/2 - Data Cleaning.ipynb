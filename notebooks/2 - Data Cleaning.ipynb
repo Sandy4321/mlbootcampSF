{
 "cells": [
  {
   "cell_type": "markdown",
   "metadata": {},
   "source": [
    "## Part 2 - Data Cleaning\n",
    "During our EDA we encountered some variables with incomplete or corrupted data.  \n",
    "In this notebook we will use Pandas to:\n",
    "* Remove outliers  \n",
    "* remove non houses (ie. Land/Lot)\n",
    "* Handle missing, null or corrupted values  "
   ]
  },
  {
   "cell_type": "code",
   "execution_count": 2,
   "metadata": {},
   "outputs": [],
   "source": [
    "import time\n",
    "from tqdm import tqdm\n",
    "import numpy as np\n",
    "import pandas as pd\n",
    "import matplotlib.pyplot as plt\n",
    "import seaborn as sns\n",
    "from geopy import Nominatim\n",
    "import geojson\n",
    "import folium\n",
    "from branca.colormap import LinearColormap, StepColormap\n",
    "\n",
    "%matplotlib inline"
   ]
  },
  {
   "cell_type": "markdown",
   "metadata": {},
   "source": [
    "## Preview the data "
   ]
  },
  {
   "cell_type": "code",
   "execution_count": 4,
   "metadata": {
    "scrolled": true
   },
   "outputs": [
    {
     "data": {
      "text/html": [
       "<div>\n",
       "<style scoped>\n",
       "    .dataframe tbody tr th:only-of-type {\n",
       "        vertical-align: middle;\n",
       "    }\n",
       "\n",
       "    .dataframe tbody tr th {\n",
       "        vertical-align: top;\n",
       "    }\n",
       "\n",
       "    .dataframe thead th {\n",
       "        text-align: right;\n",
       "    }\n",
       "</style>\n",
       "<table border=\"1\" class=\"dataframe\">\n",
       "  <thead>\n",
       "    <tr style=\"text-align: right;\">\n",
       "      <th></th>\n",
       "      <th>title</th>\n",
       "      <th>address</th>\n",
       "      <th>city</th>\n",
       "      <th>state</th>\n",
       "      <th>postal_code</th>\n",
       "      <th>price</th>\n",
       "      <th>facts and features</th>\n",
       "      <th>real estate provider</th>\n",
       "      <th>url</th>\n",
       "    </tr>\n",
       "  </thead>\n",
       "  <tbody>\n",
       "    <tr>\n",
       "      <th>0</th>\n",
       "      <td>Condo For Sale</td>\n",
       "      <td>550 Davis St UNIT 44</td>\n",
       "      <td>San Francisco</td>\n",
       "      <td>CA</td>\n",
       "      <td>94111</td>\n",
       "      <td>$1,995,000</td>\n",
       "      <td>3 bds , 2 ba , 1,520 sqft</td>\n",
       "      <td>Sotheby's International Realty</td>\n",
       "      <td>https://www.zillow.com/homedetails/550-Davis-S...</td>\n",
       "    </tr>\n",
       "    <tr>\n",
       "      <th>1</th>\n",
       "      <td>Condo For Sale</td>\n",
       "      <td>240 Lombard St APT 437</td>\n",
       "      <td>San Francisco</td>\n",
       "      <td>CA</td>\n",
       "      <td>94111</td>\n",
       "      <td>$625,000</td>\n",
       "      <td>1 bd , 1 ba , 566 sqft</td>\n",
       "      <td>SimpleListing.com</td>\n",
       "      <td>https://www.zillow.com/homedetails/240-Lombard...</td>\n",
       "    </tr>\n",
       "    <tr>\n",
       "      <th>2</th>\n",
       "      <td>Condo For Sale</td>\n",
       "      <td>550 Davis St UNIT 39</td>\n",
       "      <td>San Francisco</td>\n",
       "      <td>CA</td>\n",
       "      <td>94111</td>\n",
       "      <td>$1,196,000</td>\n",
       "      <td>1 bd , 1 ba , 914 sqft</td>\n",
       "      <td>NaN</td>\n",
       "      <td>https://www.zillow.com/homedetails/550-Davis-S...</td>\n",
       "    </tr>\n",
       "    <tr>\n",
       "      <th>3</th>\n",
       "      <td>Condo For Sale</td>\n",
       "      <td>77 Dow Pl APT 701</td>\n",
       "      <td>San Francisco</td>\n",
       "      <td>CA</td>\n",
       "      <td>94107</td>\n",
       "      <td>$935,000</td>\n",
       "      <td>1 bd , 1.5 ba , 1,022 sqft</td>\n",
       "      <td>Vanguard Properties</td>\n",
       "      <td>https://www.zillow.com/homedetails/77-Dow-Pl-A...</td>\n",
       "    </tr>\n",
       "    <tr>\n",
       "      <th>4</th>\n",
       "      <td>House For Sale</td>\n",
       "      <td>807 Francisco St</td>\n",
       "      <td>San Francisco</td>\n",
       "      <td>CA</td>\n",
       "      <td>94109</td>\n",
       "      <td>$16,900,000</td>\n",
       "      <td>6 bds , 6.5 ba , 6,180 sqft</td>\n",
       "      <td>Compass</td>\n",
       "      <td>https://www.zillow.com/homedetails/807-Francis...</td>\n",
       "    </tr>\n",
       "  </tbody>\n",
       "</table>\n",
       "</div>"
      ],
      "text/plain": [
       "            title                 address           city state postal_code  \\\n",
       "0  Condo For Sale    550 Davis St UNIT 44  San Francisco    CA       94111   \n",
       "1  Condo For Sale  240 Lombard St APT 437  San Francisco    CA       94111   \n",
       "2  Condo For Sale    550 Davis St UNIT 39  San Francisco    CA       94111   \n",
       "3  Condo For Sale       77 Dow Pl APT 701  San Francisco    CA       94107   \n",
       "4  House For Sale        807 Francisco St  San Francisco    CA       94109   \n",
       "\n",
       "         price           facts and features            real estate provider  \\\n",
       "0   $1,995,000    3 bds , 2 ba , 1,520 sqft  Sotheby's International Realty   \n",
       "1     $625,000       1 bd , 1 ba , 566 sqft               SimpleListing.com   \n",
       "2   $1,196,000       1 bd , 1 ba , 914 sqft                             NaN   \n",
       "3     $935,000   1 bd , 1.5 ba , 1,022 sqft             Vanguard Properties   \n",
       "4  $16,900,000  6 bds , 6.5 ba , 6,180 sqft                         Compass   \n",
       "\n",
       "                                                 url  \n",
       "0  https://www.zillow.com/homedetails/550-Davis-S...  \n",
       "1  https://www.zillow.com/homedetails/240-Lombard...  \n",
       "2  https://www.zillow.com/homedetails/550-Davis-S...  \n",
       "3  https://www.zillow.com/homedetails/77-Dow-Pl-A...  \n",
       "4  https://www.zillow.com/homedetails/807-Francis...  "
      ]
     },
     "execution_count": 4,
     "metadata": {},
     "output_type": "execute_result"
    }
   ],
   "source": [
    "import glob\n",
    "all_csvs = []\n",
    "# load the csv files from all scraping runs\n",
    "for filename in glob.glob('./data/sf/**/*.csv'):\n",
    "    all_csvs.append(pd.read_csv(filename))\n",
    "# combine all dataframes together and drop any duplicate entries\n",
    "df_dirty = pd.concat(all_csvs, ignore_index=True).drop_duplicates()\n",
    "# save this combined dataframe as csv for safe keeping\n",
    "df_dirty.to_csv('./data/sf/all.csv')\n",
    "df_dirty.head(5) # display first 5 entries of DataFrame"
   ]
  },
  {
   "cell_type": "markdown",
   "metadata": {},
   "source": [
    "## Remove outliers\n",
    "Recall from our EDA that our data has outliers which result in high skewness and kurtosis values."
   ]
  },
  {
   "cell_type": "code",
   "execution_count": null,
   "metadata": {},
   "outputs": [],
   "source": [
    "# globally set our seaborn plot size to 12 by 8 inches:\n",
    "sns.set(rc={'figure.figsize':(12, 8)})\n",
    "\n",
    "def plot_prices(df: pd.DataFrame, bins: list):\n",
    "    fig, ax = plt.subplots()\n",
    "    ax.set_xticks(bins)\n",
    "    plt.xticks(rotation='vertical')\n",
    "    return sns.distplot(df.price, bins=bins)\n",
    "\n",
    "bins = range(int(df_dirty.price.min()),int(df_dirty.price.max()),1000000)\n",
    "plot_prices(df_dirty, bins)\n",
    "print(\"Skewness: %f\" % df_dirty['price'].skew())\n",
    "print(\"Kurtosis: %f\" % df_dirty['price'].kurt())"
   ]
  },
  {
   "cell_type": "code",
   "execution_count": null,
   "metadata": {},
   "outputs": [],
   "source": [
    "cutoff = 12e6\n",
    "df_clean = df_dirty[df_dirty['price'] <= cutoff]"
   ]
  },
  {
   "cell_type": "code",
   "execution_count": null,
   "metadata": {},
   "outputs": [],
   "source": [
    "bins = range(int(df_clean.price.min()),int(df_clean.price.max()),1000000)\n",
    "plot_prices(df_clean, bins)\n",
    "print(\"Skewness: %f\" % df_clean['price'].skew())\n",
    "print(\"Kurtosis: %f\" % df_clean['price'].kurt())"
   ]
  },
  {
   "cell_type": "markdown",
   "metadata": {},
   "source": [
    "The skewness and kurtosis values have improved. The distribution is still skewed however there are transformations we can apply to the dataset to make it more normally distributed. More on these transformations in a later notebook."
   ]
  },
  {
   "cell_type": "markdown",
   "metadata": {},
   "source": [
    "## Remove entries with `property_type` Land/Lot\n",
    "In our EDA we encountered houses with zero square footage. This was due to listings of Land/Lot rather than House. Let's remove these entries since we are not interested in predicting Land/Lot value"
   ]
  },
  {
   "cell_type": "code",
   "execution_count": null,
   "metadata": {},
   "outputs": [],
   "source": [
    "num_zero_sqft = (df_dirty['sqft'] == 0).sum()\n",
    "print(\"There are {} entries with zero sqft\".format(num_zero_sqft))"
   ]
  },
  {
   "cell_type": "code",
   "execution_count": null,
   "metadata": {},
   "outputs": [],
   "source": [
    "df_clean = df_clean[df_clean['property_type'] != 'Land/Lot'] # only include entries which are NOT Land/Lot\n",
    "num_zero_sqft = (df_clean['sqft'] == 0).sum()\n",
    "print(\"There are {} entries with zero sqft\".format(num_zero_sqft))"
   ]
  },
  {
   "cell_type": "markdown",
   "metadata": {},
   "source": [
    "## Deal with Null and Missing values"
   ]
  },
  {
   "cell_type": "code",
   "execution_count": null,
   "metadata": {},
   "outputs": [],
   "source": [
    "df_clean.info()"
   ]
  },
  {
   "cell_type": "code",
   "execution_count": null,
   "metadata": {},
   "outputs": [],
   "source": [
    "missing = df_clean.isnull().sum()\n",
    "missing = missing[missing > 0]\n",
    "missing.sort_values(inplace=True)\n",
    "missing.plot.bar()\n",
    "plt.title(\"Counts of Missing Values\")\n",
    "plt.show()\n",
    "missing_ratio = missing / len(df_clean)\n",
    "missing_ratio.plot.bar()\n",
    "plt.title(\"Ratio of Missing Values\")\n",
    "plt.show()"
   ]
  },
  {
   "cell_type": "markdown",
   "metadata": {},
   "source": [
    "Rather than remove these missing values from the dataset, let's consider these numbers during Feature Selection in a later notebook."
   ]
  },
  {
   "cell_type": "markdown",
   "metadata": {},
   "source": [
    " ## Save the dataframe to .csv file"
   ]
  },
  {
   "cell_type": "code",
   "execution_count": null,
   "metadata": {},
   "outputs": [],
   "source": [
    "df_clean.to_csv('./data/rew_van_jan12_clean.csv', index=False)"
   ]
  }
 ],
 "metadata": {
  "kernelspec": {
   "display_name": "Python 3",
   "language": "python",
   "name": "python3"
  },
  "language_info": {
   "codemirror_mode": {
    "name": "ipython",
    "version": 3
   },
   "file_extension": ".py",
   "mimetype": "text/x-python",
   "name": "python",
   "nbconvert_exporter": "python",
   "pygments_lexer": "ipython3",
   "version": "3.6.3"
  }
 },
 "nbformat": 4,
 "nbformat_minor": 2
}
