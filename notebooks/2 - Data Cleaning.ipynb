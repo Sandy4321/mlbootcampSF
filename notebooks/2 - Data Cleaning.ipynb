{
 "cells": [
  {
   "cell_type": "markdown",
   "metadata": {},
   "source": [
    "## Part 2 - Data Cleaning\n",
    "During our EDA we encountered some variables with incomplete or corrupted data.  \n",
    "In this notebook we will use Pandas to:\n",
    "* Remove outliers  \n",
    "* remove non houses (ie. Land/Lot)\n",
    "* Handle missing, null or corrupted values  "
   ]
  },
  {
   "cell_type": "code",
   "execution_count": null,
   "metadata": {},
   "outputs": [],
   "source": [
    "import time\n",
    "from tqdm import tqdm\n",
    "import numpy as np\n",
    "import pandas as pd\n",
    "import matplotlib.pyplot as plt\n",
    "import seaborn as sns\n",
    "from geopy import Nominatim\n",
    "import geojson\n",
    "import folium\n",
    "from branca.colormap import LinearColormap, StepColormap\n",
    "\n",
    "%matplotlib inline"
   ]
  },
  {
   "cell_type": "markdown",
   "metadata": {},
   "source": [
    "## Preview the data "
   ]
  },
  {
   "cell_type": "code",
   "execution_count": null,
   "metadata": {},
   "outputs": [],
   "source": [
    "df_dirty = pd.read_csv('./data/rew_van_jan12.csv') # load contents of .csv into a pandas.DataFrame object\n",
    "df_dirty.head(5) # display first 5 entries of DataFrame"
   ]
  },
  {
   "cell_type": "code",
   "execution_count": null,
   "metadata": {},
   "outputs": [],
   "source": [
    "df_dirty.columns"
   ]
  },
  {
   "cell_type": "markdown",
   "metadata": {},
   "source": [
    "## Remove outliers\n",
    "Recall from our EDA that our data has outliers which result in high skewness and kurtosis values."
   ]
  },
  {
   "cell_type": "code",
   "execution_count": null,
   "metadata": {},
   "outputs": [],
   "source": [
    "# globally set our seaborn plot size to 12 by 8 inches:\n",
    "sns.set(rc={'figure.figsize':(12, 8)})\n",
    "\n",
    "def plot_prices(df: pd.DataFrame, bins: list):\n",
    "    fig, ax = plt.subplots()\n",
    "    ax.set_xticks(bins)\n",
    "    plt.xticks(rotation='vertical')\n",
    "    return sns.distplot(df.price, bins=bins)\n",
    "\n",
    "bins = range(int(df_dirty.price.min()),int(df_dirty.price.max()),1000000)\n",
    "plot_prices(df_dirty, bins)\n",
    "print(\"Skewness: %f\" % df_dirty['price'].skew())\n",
    "print(\"Kurtosis: %f\" % df_dirty['price'].kurt())"
   ]
  },
  {
   "cell_type": "code",
   "execution_count": null,
   "metadata": {},
   "outputs": [],
   "source": [
    "cutoff = 12e6\n",
    "df_clean = df_dirty[df_dirty['price'] <= cutoff]"
   ]
  },
  {
   "cell_type": "code",
   "execution_count": null,
   "metadata": {},
   "outputs": [],
   "source": [
    "bins = range(int(df_clean.price.min()),int(df_clean.price.max()),1000000)\n",
    "plot_prices(df_clean, bins)\n",
    "print(\"Skewness: %f\" % df_clean['price'].skew())\n",
    "print(\"Kurtosis: %f\" % df_clean['price'].kurt())"
   ]
  },
  {
   "cell_type": "markdown",
   "metadata": {},
   "source": [
    "The skewness and kurtosis values have improved. The distribution is still skewed however there are transformations we can apply to the dataset to make it more normally distributed. More on these transformations in a later notebook."
   ]
  },
  {
   "cell_type": "markdown",
   "metadata": {},
   "source": [
    "## Remove entries with `property_type` Land/Lot\n",
    "In our EDA we encountered houses with zero square footage. This was due to listings of Land/Lot rather than House. Let's remove these entries since we are not interested in predicting Land/Lot value"
   ]
  },
  {
   "cell_type": "code",
   "execution_count": null,
   "metadata": {},
   "outputs": [],
   "source": [
    "num_zero_sqft = (df_dirty['sqft'] == 0).sum()\n",
    "print(\"There are {} entries with zero sqft\".format(num_zero_sqft))"
   ]
  },
  {
   "cell_type": "code",
   "execution_count": null,
   "metadata": {},
   "outputs": [],
   "source": [
    "df_clean = df_clean[df_clean['property_type'] != 'Land/Lot'] # only include entries which are NOT Land/Lot\n",
    "num_zero_sqft = (df_clean['sqft'] == 0).sum()\n",
    "print(\"There are {} entries with zero sqft\".format(num_zero_sqft))"
   ]
  },
  {
   "cell_type": "markdown",
   "metadata": {},
   "source": [
    "## Deal with Null and Missing values"
   ]
  },
  {
   "cell_type": "code",
   "execution_count": null,
   "metadata": {},
   "outputs": [],
   "source": [
    "df_clean.info()"
   ]
  },
  {
   "cell_type": "code",
   "execution_count": null,
   "metadata": {},
   "outputs": [],
   "source": [
    "missing = df_clean.isnull().sum()\n",
    "missing = missing[missing > 0]\n",
    "missing.sort_values(inplace=True)\n",
    "missing.plot.bar()\n",
    "plt.title(\"Counts of Missing Values\")\n",
    "plt.show()\n",
    "missing_ratio = missing / len(df_clean)\n",
    "missing_ratio.plot.bar()\n",
    "plt.title(\"Ratio of Missing Values\")\n",
    "plt.show()"
   ]
  },
  {
   "cell_type": "markdown",
   "metadata": {},
   "source": [
    "Rather than remove these missing values from the dataset, let's consider these numbers during Feature Selection in a later notebook."
   ]
  },
  {
   "cell_type": "markdown",
   "metadata": {},
   "source": [
    " ## Save the dataframe to .csv file"
   ]
  },
  {
   "cell_type": "code",
   "execution_count": null,
   "metadata": {},
   "outputs": [],
   "source": [
    "df_clean.to_csv('./data/rew_van_jan12_clean.csv', index=False)"
   ]
  }
 ],
 "metadata": {
  "kernelspec": {
   "display_name": "Python 3",
   "language": "python",
   "name": "python3"
  },
  "language_info": {
   "codemirror_mode": {
    "name": "ipython",
    "version": 3
   },
   "file_extension": ".py",
   "mimetype": "text/x-python",
   "name": "python",
   "nbconvert_exporter": "python",
   "pygments_lexer": "ipython3",
   "version": "3.6.3"
  }
 },
 "nbformat": 4,
 "nbformat_minor": 2
}
