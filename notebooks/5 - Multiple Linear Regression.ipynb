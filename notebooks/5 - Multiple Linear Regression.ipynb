{
 "cells": [
  {
   "cell_type": "markdown",
   "metadata": {},
   "source": [
    "# Part 5 - Multiple Linear Regression"
   ]
  },
  {
   "cell_type": "markdown",
   "metadata": {},
   "source": [
    "In the previous notebook we trained a Simple Linear Regressor with a single feature (`sqft`).  \n",
    "In this notebook we aim to extend the capability of our model by using multiple features for our independent variable `X`.  \n",
    "Our equation is the same however our `X` is now a matrix and the equation no longer represents a line but rather a hyperplane in N-dimensional space where **N** is the number of features in `X`.\n",
    "  \n",
    "$$\n",
    "y = mX + b\n",
    "$$ \n",
    "  \n"
   ]
  },
  {
   "cell_type": "code",
   "execution_count": null,
   "metadata": {},
   "outputs": [],
   "source": [
    "import time\n",
    "import pandas as pd\n",
    "import matplotlib.pyplot as plt\n",
    "import seaborn as sns\n",
    "import numpy as np\n",
    "from sklearn.linear_model import LinearRegression\n",
    "from sklearn.metrics import mean_squared_error\n",
    "from sklearn.model_selection import train_test_split\n",
    "%matplotlib inline"
   ]
  },
  {
   "cell_type": "markdown",
   "metadata": {},
   "source": [
    "## Let's load the data and remind ourselves of the contents"
   ]
  },
  {
   "cell_type": "code",
   "execution_count": null,
   "metadata": {},
   "outputs": [],
   "source": [
    "df = pd.read_csv('./data/rew_van_jan12_clean_engineered.csv')\n",
    "df.head()"
   ]
  },
  {
   "cell_type": "markdown",
   "metadata": {},
   "source": [
    "## Prepare our training and validation data"
   ]
  },
  {
   "cell_type": "code",
   "execution_count": null,
   "metadata": {},
   "outputs": [],
   "source": [
    "df.columns"
   ]
  },
  {
   "cell_type": "code",
   "execution_count": null,
   "metadata": {},
   "outputs": [],
   "source": [
    "features = [feature for feature in df.columns if feature != 'price']\n",
    "X = df[features]\n",
    "y = df['price']\n",
    "X_np = X.values\n",
    "y_np = y.values.reshape((len(df), 1))"
   ]
  },
  {
   "cell_type": "code",
   "execution_count": null,
   "metadata": {},
   "outputs": [],
   "source": [
    "X_train, X_val, y_train, y_val = train_test_split(X_np, y_np, test_size=0.30, random_state=123) # split 70% train, 30% validation"
   ]
  },
  {
   "cell_type": "code",
   "execution_count": null,
   "metadata": {},
   "outputs": [],
   "source": [
    "regressor = LinearRegression(normalize=True)"
   ]
  },
  {
   "cell_type": "code",
   "execution_count": null,
   "metadata": {},
   "outputs": [],
   "source": [
    "model = regressor.fit(X_train, y_train)"
   ]
  },
  {
   "cell_type": "code",
   "execution_count": null,
   "metadata": {},
   "outputs": [],
   "source": [
    "def evaluate_model(model, X, y):\n",
    "    y_pred = model.predict(X) # predict y values from input X\n",
    "    mse = mean_squared_error(y_true=y, y_pred=y_pred)\n",
    "    print(\"Mean Squared Error: {}\".format(mse))\n",
    "    print(\"Accuracy: {}%\".format(model.score(X, y)*100.0))\n",
    "evaluate_model(model, X_val, y_val)"
   ]
  },
  {
   "cell_type": "code",
   "execution_count": null,
   "metadata": {},
   "outputs": [],
   "source": [
    "# try brand new data\n",
    "actual_price = '$5,688,000'\n",
    "sqft = 3790\n",
    "bed = 4\n",
    "bath = 4\n",
    "sub_area = \"Quilchena\"\n",
    "area = \"Vancouver West\"\n",
    "property_type = \"House\"\n",
    "strata_type = \"Freehold NonStrata\"\n",
    "new_data = {'sqft': sqft,\n",
    "            'bed': bed,\n",
    "            'bath': bath,\n",
    "            'sub_area_{}'.format(sub_area): 1,\n",
    "            'area_{}'.format(area): 1,\n",
    "            'property_type_{}'.format(property_type): 1,\n",
    "            'strata_type_{}'.format(strata_type): 1\n",
    "           }\n",
    "new_df = pd.get_dummies(pd.DataFrame(data=[new_data], columns=X.columns).fillna(0))\n",
    "print(X.shape)\n",
    "predicted_price = model.predict(new_df)\n",
    "print(\"predicted price: ${}M\".format(predicted_price[0]/1e6))\n",
    "print(\"actual price: {}\".format(actual_price))"
   ]
  },
  {
   "cell_type": "markdown",
   "metadata": {},
   "source": [
    "## Retrain on entire dataset and save model to disk"
   ]
  },
  {
   "cell_type": "code",
   "execution_count": null,
   "metadata": {},
   "outputs": [],
   "source": [
    "import pickle\n",
    "model = regressor.fit(X, y)\n",
    "with open('./models/multiple_linear.pkl', 'wb') as f:\n",
    "    pickle.dump(model, f)"
   ]
  }
 ],
 "metadata": {
  "kernelspec": {
   "display_name": "Python 3",
   "language": "python",
   "name": "python3"
  },
  "language_info": {
   "codemirror_mode": {
    "name": "ipython",
    "version": 3
   },
   "file_extension": ".py",
   "mimetype": "text/x-python",
   "name": "python",
   "nbconvert_exporter": "python",
   "pygments_lexer": "ipython3",
   "version": "3.6.3"
  }
 },
 "nbformat": 4,
 "nbformat_minor": 2
}
