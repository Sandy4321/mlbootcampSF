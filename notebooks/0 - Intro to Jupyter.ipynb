{
 "cells": [
  {
   "cell_type": "markdown",
   "metadata": {},
   "source": [
    "# Part 0 - Intro to Jupyter  \n",
    "A refresher for those new to Jupyter (and perhaps Python altogether)"
   ]
  },
  {
   "cell_type": "markdown",
   "metadata": {},
   "source": [
    "In a Jupyter notebook there are two modes: **Command Mode** and **Edit Mode**.  \n",
    "In Command Mode we can do things like: add, remove, and move cells. To enter Command Mode hit **Esc**.  \n",
    "In Edit Mode we can modify the code within the cells. To enter Edit Mode hit **Enter**.  \n",
    "  \n",
    "There are two types of cells: **Markdown** and **Code**.  \n",
    "**Markdown** is a language for formatting text and is used for presenting text (e.g. this cell).  \n",
    "**Code** cells are executable and are where your Python code resides.  \n",
    "  "
   ]
  },
  {
   "cell_type": "markdown",
   "metadata": {},
   "source": [
    "Some useful keyboard shortcuts (see also **Help --> Keyboard Shortcuts** for complete list):  \n",
    "Note that all keyboard shortcuts except **Esc** only work in **Command Mode**.  \n",
    "* Esc - enter command mode\n",
    "* Enter - enter edit mode\n",
    "* Ctrl+Enter - execute cell, stay on current cell\n",
    "* Shift+Enter - execute cell, move to next cell. Insert new cell if no cell exists below.\n",
    "* Alt+Enter - execute cell, insert new cell below\n",
    "* a - insert cell above\n",
    "* b - insert cell below\n",
    "* dd - delete cell\n",
    "* m - convert cell to Markdown\n",
    "* y - convert cell to Code"
   ]
  },
  {
   "cell_type": "markdown",
   "metadata": {},
   "source": [
    "Let's code!"
   ]
  },
  {
   "cell_type": "code",
   "execution_count": null,
   "metadata": {},
   "outputs": [],
   "source": [
    "print(\"Hello from Jupyter!\")"
   ]
  },
  {
   "cell_type": "markdown",
   "metadata": {},
   "source": [
    "Variables outside of classes and functions have **global** scope.  \n",
    "Variables inside of classes functions have **local** scope."
   ]
  },
  {
   "cell_type": "code",
   "execution_count": null,
   "metadata": {},
   "outputs": [],
   "source": [
    "var_g = \"I am a global variable\"\n",
    "def my_function():\n",
    "    var_l = \"I am a local variable\"\n",
    "    print(\"Executing my_function()\")"
   ]
  },
  {
   "cell_type": "code",
   "execution_count": null,
   "metadata": {},
   "outputs": [],
   "source": [
    "var_g"
   ]
  },
  {
   "cell_type": "code",
   "execution_count": null,
   "metadata": {},
   "outputs": [],
   "source": [
    "var_l"
   ]
  },
  {
   "cell_type": "code",
   "execution_count": null,
   "metadata": {},
   "outputs": [],
   "source": [
    "var_l = \"same variable name, but assigned globally\""
   ]
  },
  {
   "cell_type": "code",
   "execution_count": null,
   "metadata": {},
   "outputs": [],
   "source": [
    "my_function()"
   ]
  },
  {
   "cell_type": "code",
   "execution_count": null,
   "metadata": {},
   "outputs": [],
   "source": [
    "var_l"
   ]
  },
  {
   "cell_type": "markdown",
   "metadata": {},
   "source": [
    "## Bonus protip: View function docstrings by pressing `Shift+Tab` while cursor is between parentheses"
   ]
  },
  {
   "cell_type": "code",
   "execution_count": null,
   "metadata": {
    "scrolled": true
   },
   "outputs": [],
   "source": [
    "import numpy as np\n",
    "array = np.ndarray()"
   ]
  },
  {
   "cell_type": "code",
   "execution_count": null,
   "metadata": {},
   "outputs": [],
   "source": [
    "array = np.ndarray(shape=(1000,1000))\n",
    "print(array.shape)"
   ]
  }
 ],
 "metadata": {
  "kernelspec": {
   "display_name": "Python 3",
   "language": "python",
   "name": "python3"
  },
  "language_info": {
   "codemirror_mode": {
    "name": "ipython",
    "version": 3
   },
   "file_extension": ".py",
   "mimetype": "text/x-python",
   "name": "python",
   "nbconvert_exporter": "python",
   "pygments_lexer": "ipython3",
   "version": "3.6.3"
  }
 },
 "nbformat": 4,
 "nbformat_minor": 2
}
