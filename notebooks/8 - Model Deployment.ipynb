{
 "cells": [
  {
   "cell_type": "markdown",
   "metadata": {},
   "source": [
    "# Work In Progress..\n",
    "# Placeholder for API"
   ]
  },
  {
   "cell_type": "code",
   "execution_count": null,
   "metadata": {},
   "outputs": [
    {
     "name": "stderr",
     "output_type": "stream",
     "text": [
      " * Running on http://0.0.0.0:5000/ (Press CTRL+C to quit)\n",
      "127.0.0.1 - - [06/Mar/2018 18:33:10] \"\u001b[37mGET /todos/ HTTP/1.1\u001b[0m\" 200 -\n"
     ]
    }
   ],
   "source": [
    "import os\n",
    "from flask import Flask\n",
    "from flask_restplus import Api, Resource, fields\n",
    "from werkzeug.contrib.fixers import ProxyFix\n",
    "\n",
    "app = Flask(__name__)\n",
    "app.wsgi_app = ProxyFix(app.wsgi_app)\n",
    "api = Api(app, version='1.0', title='TodoMVC API',\n",
    "    description='A simple TodoMVC API',\n",
    ")\n",
    "\n",
    "ns = api.namespace('todos', description='TODO operations')\n",
    "\n",
    "todo = api.model('Todo', {\n",
    "    'id': fields.Integer(readOnly=True, description='The task unique identifier'),\n",
    "    'task': fields.String(required=True, description='The task details')\n",
    "})\n",
    "\n",
    "\n",
    "class TodoDAO(object):\n",
    "    def __init__(self):\n",
    "        self.counter = 0\n",
    "        self.todos = []\n",
    "\n",
    "    def get(self, id):\n",
    "        for todo in self.todos:\n",
    "            if todo['id'] == id:\n",
    "                return todo\n",
    "        api.abort(404, \"Todo {} doesn't exist\".format(id))\n",
    "\n",
    "    def create(self, data):\n",
    "        todo = data\n",
    "        todo['id'] = self.counter = self.counter + 1\n",
    "        self.todos.append(todo)\n",
    "        return todo\n",
    "\n",
    "    def update(self, id, data):\n",
    "        todo = self.get(id)\n",
    "        todo.update(data)\n",
    "        return todo\n",
    "\n",
    "    def delete(self, id):\n",
    "        todo = self.get(id)\n",
    "        self.todos.remove(todo)\n",
    "\n",
    "\n",
    "DAO = TodoDAO()\n",
    "DAO.create({'task': 'Build an API'})\n",
    "DAO.create({'task': '?????'})\n",
    "DAO.create({'task': 'profit!'})\n",
    "\n",
    "\n",
    "@ns.route('/')\n",
    "class TodoList(Resource):\n",
    "    '''Shows a list of all todos, and lets you POST to add new tasks'''\n",
    "    @ns.doc('list_todos')\n",
    "    @ns.marshal_list_with(todo)\n",
    "    def get(self):\n",
    "        '''List all tasks'''\n",
    "        return DAO.todos\n",
    "\n",
    "    @ns.doc('create_todo')\n",
    "    @ns.expect(todo)\n",
    "    @ns.marshal_with(todo, code=201)\n",
    "    def post(self):\n",
    "        '''Create a new task'''\n",
    "        return DAO.create(api.payload), 201\n",
    "\n",
    "\n",
    "@ns.route('/<int:id>')\n",
    "@ns.response(404, 'Todo not found')\n",
    "@ns.param('id', 'The task identifier')\n",
    "class Todo(Resource):\n",
    "    '''Show a single todo item and lets you delete them'''\n",
    "    @ns.doc('get_todo')\n",
    "    @ns.marshal_with(todo)\n",
    "    def get(self, id):\n",
    "        '''Fetch a given resource'''\n",
    "        return DAO.get(id)\n",
    "\n",
    "    @ns.doc('delete_todo')\n",
    "    @ns.response(204, 'Todo deleted')\n",
    "    def delete(self, id):\n",
    "        '''Delete a task given its identifier'''\n",
    "        DAO.delete(id)\n",
    "        return '', 204\n",
    "\n",
    "    @ns.expect(todo)\n",
    "    @ns.marshal_with(todo)\n",
    "    def put(self, id):\n",
    "        '''Update a task given its identifier'''\n",
    "        return DAO.update(id, api.payload)\n",
    "\n",
    "\n",
    "if __name__ == '__main__':\n",
    "    app.run(host=\"0.0.0.0\", port=os.environ['API_PORT'])"
   ]
  },
  {
   "cell_type": "code",
   "execution_count": 1,
   "metadata": {},
   "outputs": [
    {
     "data": {
      "text/plain": [
       "environ({'PATH': '/usr/local/sbin:/usr/local/bin:/usr/sbin:/usr/bin:/sbin:/bin', 'HOSTNAME': 'b0ed6d0b041d', 'API_PORT': '5001', 'LC_ALL': 'C.UTF-8', 'LANG': 'C.UTF-8', 'PYTHONPATH': '/home/digitalist', 'HOME': '/root', 'JPY_PARENT_PID': '1', 'TERM': 'xterm-color', 'CLICOLOR': '1', 'PAGER': 'cat', 'GIT_PAGER': 'cat', 'MPLBACKEND': 'module://ipykernel.pylab.backend_inline'})"
      ]
     },
     "execution_count": 1,
     "metadata": {},
     "output_type": "execute_result"
    }
   ],
   "source": [
    "import os\n",
    "os.environ"
   ]
  }
 ],
 "metadata": {
  "kernelspec": {
   "display_name": "Python 3",
   "language": "python",
   "name": "python3"
  },
  "language_info": {
   "codemirror_mode": {
    "name": "ipython",
    "version": 3
   },
   "file_extension": ".py",
   "mimetype": "text/x-python",
   "name": "python",
   "nbconvert_exporter": "python",
   "pygments_lexer": "ipython3",
   "version": "3.6.3"
  }
 },
 "nbformat": 4,
 "nbformat_minor": 2
}
