{
 "cells": [
  {
   "cell_type": "code",
   "execution_count": null,
   "metadata": {},
   "outputs": [
    {
     "name": "stderr",
     "output_type": "stream",
     "text": [
      " * Running on http://0.0.0.0:5000/ (Press CTRL+C to quit)\n",
      "172.21.0.1 - - [07/Mar/2018 03:34:23] \"\u001b[37mGET /api/v1/prediction?model=xgb&property_type=condo&zipcode=123&sqft=12&bath=13&bed=14 HTTP/1.1\u001b[0m\" 200 -\n",
      "172.21.0.1 - - [07/Mar/2018 03:35:04] \"\u001b[37mGET /api/v1/prediction?model=xgb&property_type=condo&zipcode=94131&sqft=1747&bath=3&bed=3 HTTP/1.1\u001b[0m\" 200 -\n",
      "172.21.0.1 - - [07/Mar/2018 03:35:10] \"\u001b[1m\u001b[35mGET /api/v1/prediction?model=all&property_type=condo&zipcode=94131&sqft=1747&bath=3&bed=3 HTTP/1.1\u001b[0m\" 500 -\n"
     ]
    }
   ],
   "source": [
    "import os\n",
    "import pickle\n",
    "from flask import Flask\n",
    "from flask_restplus import Api, Resource, fields, reqparse\n",
    "from werkzeug.contrib.fixers import ProxyFix\n",
    "import pandas as pd\n",
    "\n",
    "app = Flask(__name__)\n",
    "app.wsgi_app = ProxyFix(app.wsgi_app)\n",
    "app.config.SWAGGER_UI_DOC_EXPANSION = 'full'\n",
    "api = Api(app, version='1.0', title='House Prediction API',\n",
    "    description='Expose ML Models as endpoints',\n",
    ")\n",
    "\n",
    "ns = api.namespace('api/v1', description='House prediction API')\n",
    "\n",
    "AVAILABLE_MODELS = ['xgb', 'mlp', 'mlr', 'rf', 'all']\n",
    "AVAILABLE_PROPERTY_TYPES = []\n",
    "\n",
    "def load_models() -> dict:\n",
    "    with open('./models/sf/multiple_linear.pkl', 'rb') as f:\n",
    "        linear_model = pickle.load(f)\n",
    "    with open('./models/sf/xgb.pkl', 'rb') as f:\n",
    "        xgb_model = pickle.load(f)\n",
    "    with open('./models/sf/random_forest.pkl', 'rb') as f:\n",
    "        rf_model = pickle.load(f)\n",
    "    with open('./models/sf/mlp.pkl', 'rb') as f:\n",
    "        mlp_model = pickle.load(f)\n",
    "    models = {'xgb': xgb_model,\n",
    "             'mlp': mlp_model,\n",
    "             'mlr': linear_model,\n",
    "             'rf': rf_model}\n",
    "    return models\n",
    "\n",
    "MODELS = load_models()\n",
    "\n",
    "def avg_prediction(input_data: dict) -> float:\n",
    "    return \"AVERAGE!\"\n",
    "\n",
    "def predict(input_data: dict, model_type: str) -> float:\n",
    "    df_cols = pd.read_csv('./data/sf/data_clean_engineered.csv')\n",
    "    features = [feature for feature in df_cols.columns if feature != 'price']\n",
    "    df_input = pd.get_dummies(pd.DataFrame(data=[input_data], columns=features).fillna(0))\n",
    "    if model_type not in AVAILABLE_MODELS:\n",
    "        raise Exception(f\"model type {model_type} not available. Available models: {AVAILABLE_MODELS}\")\n",
    "    elif 'all' in model_type.lower():\n",
    "        return avg_prediction(input_data)\n",
    "    \n",
    "    prediction = MODELS[f'{model_type}'].predict(df_input)\n",
    "    return float(prediction.squeeze())\n",
    "\n",
    "@ns.route('/prediction')\n",
    "class Prediction(Resource):\n",
    "    '''Prediction Endpoint'''\n",
    "    @ns.param('bed', f'Number of bedrooms',\n",
    "          type=int,\n",
    "             required=True)\n",
    "    @ns.param('bath', f'Number of bathrooms',\n",
    "          type=int,\n",
    "             required=True)\n",
    "    @ns.param('sqft', f'Square footage',\n",
    "          type=int,\n",
    "             required=True)\n",
    "    @ns.param('zipcode', f'Zip code',\n",
    "          type=str,\n",
    "             required=True)\n",
    "    @ns.param('property_type', f'Type of property (choices: {AVAILABLE_PROPERTY_TYPES})',\n",
    "          type=str,\n",
    "             required=True)\n",
    "    @ns.param('model', f'Type of ML model to use (choices: {AVAILABLE_MODELS})',\n",
    "          type=str,\n",
    "             required=True,\n",
    "             default='all')\n",
    "    def get(self):\n",
    "        '''Get prediction'''\n",
    "        try:\n",
    "            parser = reqparse.RequestParser()\n",
    "            parser.add_argument('bed', type=int, required=True)\n",
    "            parser.add_argument('bath', type=int, required=True)\n",
    "            parser.add_argument('sqft', type=int, required=True)\n",
    "            parser.add_argument('zipcode', type=int, required=True)\n",
    "            parser.add_argument('property_type', type=str, required=True)\n",
    "            parser.add_argument('model', type=str, required=True)\n",
    "            args = parser.parse_args()\n",
    "            bed = args['bed']\n",
    "            bath= args['bath']\n",
    "            sqft= args['sqft']\n",
    "            zipcode= args['zipcode']\n",
    "            property_type= args['property_type']\n",
    "            model = args['model']\n",
    "            input_data = {\n",
    "                'bed': bed,\n",
    "                'bath': bath,\n",
    "                'sqft': sqft,\n",
    "                'postal_code_{}'.format(zipcode): 1,\n",
    "                'property_type_{}'.format(property_type): 1,\n",
    "                         }\n",
    "            prediction = predict(input_data=input_data, model_type=model)\n",
    "\n",
    "            return {'prediction': f'${prediction/1e6}M'}, 200\n",
    "        except Exception as e:\n",
    "            return {'error': str(e)}, 500\n",
    "\n",
    "if __name__ == '__main__':\n",
    "    load_models()\n",
    "    app.run(host=\"0.0.0.0\", port=int(os.environ['API_PORT']))"
   ]
  },
  {
   "cell_type": "code",
   "execution_count": 1,
   "metadata": {},
   "outputs": [
    {
     "data": {
      "text/plain": [
       "environ({'PATH': '/usr/local/sbin:/usr/local/bin:/usr/sbin:/usr/bin:/sbin:/bin', 'HOSTNAME': 'b0ed6d0b041d', 'API_PORT': '5001', 'LC_ALL': 'C.UTF-8', 'LANG': 'C.UTF-8', 'PYTHONPATH': '/home/digitalist', 'HOME': '/root', 'JPY_PARENT_PID': '1', 'TERM': 'xterm-color', 'CLICOLOR': '1', 'PAGER': 'cat', 'GIT_PAGER': 'cat', 'MPLBACKEND': 'module://ipykernel.pylab.backend_inline'})"
      ]
     },
     "execution_count": 1,
     "metadata": {},
     "output_type": "execute_result"
    }
   ],
   "source": [
    "import os\n",
    "os.environ"
   ]
  }
 ],
 "metadata": {
  "kernelspec": {
   "display_name": "Python 3",
   "language": "python",
   "name": "python3"
  },
  "language_info": {
   "codemirror_mode": {
    "name": "ipython",
    "version": 3
   },
   "file_extension": ".py",
   "mimetype": "text/x-python",
   "name": "python",
   "nbconvert_exporter": "python",
   "pygments_lexer": "ipython3",
   "version": "3.6.3"
  }
 },
 "nbformat": 4,
 "nbformat_minor": 2
}
