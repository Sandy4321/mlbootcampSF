{
 "cells": [
  {
   "cell_type": "markdown",
   "metadata": {},
   "source": [
    "# Part 7 - Model Comparison\n",
    "Let's load and compare the models we trained in the previous notebook. "
   ]
  },
  {
   "cell_type": "markdown",
   "metadata": {},
   "source": [
    "## TODO: Ensembling!"
   ]
  },
  {
   "cell_type": "code",
   "execution_count": 1,
   "metadata": {},
   "outputs": [],
   "source": [
    "import time\n",
    "import pickle\n",
    "import pandas as pd\n",
    "import matplotlib.pyplot as plt\n",
    "import seaborn as sns\n",
    "import numpy as np\n",
    "from sklearn.metrics import mean_squared_error\n",
    "from sklearn.model_selection import train_test_split\n",
    "%matplotlib inline"
   ]
  },
  {
   "cell_type": "code",
   "execution_count": 2,
   "metadata": {},
   "outputs": [],
   "source": [
    "df = pd.read_csv('./data/sf/data_clean_engineered.csv')\n",
    "features = [feature for feature in df.columns if feature != 'price']\n",
    "X = df[features]\n",
    "y = df['price']"
   ]
  },
  {
   "cell_type": "code",
   "execution_count": 3,
   "metadata": {},
   "outputs": [],
   "source": [
    "def load_models():\n",
    "    with open('./models/sf/multiple_linear.pkl', 'rb') as f:\n",
    "        linear_model = pickle.load(f)\n",
    "    with open('./models/sf/xgb.pkl', 'rb') as f:\n",
    "        xgb_model = pickle.load(f)\n",
    "    with open('./models/sf/random_forest.pkl', 'rb') as f:\n",
    "        rf_model = pickle.load(f)\n",
    "    with open('./models/sf/mlp.pkl', 'rb') as f:\n",
    "        mlp_model = pickle.load(f)\n",
    "    models = [linear_model, xgb_model, rf_model, mlp_model]\n",
    "    return models\n",
    "models = load_models()"
   ]
  },
  {
   "cell_type": "code",
   "execution_count": 4,
   "metadata": {},
   "outputs": [],
   "source": [
    "def avg_prediction(models: list) -> float:\n",
    "    \"\"\"Get average prediction from a list of models\"\"\"\n",
    "    predictions = []\n",
    "    for model in models:\n",
    "        predictions.append(model.predict(new_df))\n",
    "    predictions = np.array(predictions) # convert to numpy array\n",
    "    return np.average(predictions)"
   ]
  },
  {
   "cell_type": "code",
   "execution_count": 5,
   "metadata": {},
   "outputs": [
    {
     "name": "stdout",
     "output_type": "stream",
     "text": [
      "method: <class 'sklearn.linear_model.base.LinearRegression'>\n",
      "predicted price: $0.087552M\n",
      "actual price: $583,000\n",
      "method: <class 'xgboost.sklearn.XGBRegressor'>\n",
      "predicted price: $0.657329M\n",
      "actual price: $583,000\n",
      "method: <class 'sklearn.ensemble.forest.RandomForestRegressor'>\n",
      "predicted price: $0.7235M\n",
      "actual price: $583,000\n",
      "method: <class 'sklearn.neural_network.multilayer_perceptron.MLPRegressor'>\n",
      "predicted price: $0.9891526897756421M\n",
      "actual price: $583,000\n",
      "average price: $0.6143834224439105M\n"
     ]
    }
   ],
   "source": [
    "# try brand new data\n",
    "actual_price = '$583,000'\n",
    "sqft = 800\n",
    "bed = 1\n",
    "bath = 1\n",
    "property_type = 'condo'\n",
    "postal_code = '94124'\n",
    "new_data = {'sqft': sqft,\n",
    "            'bed': bed,\n",
    "            'bath': bath,\n",
    "            'property_type_{}'.format(property_type): 1,\n",
    "            'postal_code_{}'.format(postal_code): 1\n",
    "           }\n",
    "new_df = pd.get_dummies(pd.DataFrame(data=[new_data], columns=X.columns).fillna(0))\n",
    "\n",
    "for model in models:\n",
    "    predicted_price = model.predict(new_df)\n",
    "    print(\"method: {}\".format(model.__class__))\n",
    "    print(\"predicted price: ${}M\".format(predicted_price[0]/1e6))\n",
    "    print(\"actual price: {}\".format(actual_price))\n",
    "print(f\"average price: ${avg_prediction(models)/1e6}M\")"
   ]
  }
 ],
 "metadata": {
  "kernelspec": {
   "display_name": "Python 3",
   "language": "python",
   "name": "python3"
  },
  "language_info": {
   "codemirror_mode": {
    "name": "ipython",
    "version": 3
   },
   "file_extension": ".py",
   "mimetype": "text/x-python",
   "name": "python",
   "nbconvert_exporter": "python",
   "pygments_lexer": "ipython3",
   "version": "3.6.3"
  }
 },
 "nbformat": 4,
 "nbformat_minor": 2
}
