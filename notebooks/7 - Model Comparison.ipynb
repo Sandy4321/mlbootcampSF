{
 "cells": [
  {
   "cell_type": "markdown",
   "metadata": {},
   "source": [
    "# Part 7 - Model Comparison\n",
    "Let's load and compare the models we trained in the previous notebook. "
   ]
  },
  {
   "cell_type": "code",
   "execution_count": null,
   "metadata": {},
   "outputs": [],
   "source": [
    "import time\n",
    "import pickle\n",
    "import pandas as pd\n",
    "import matplotlib.pyplot as plt\n",
    "import seaborn as sns\n",
    "import numpy as np\n",
    "from sklearn.metrics import mean_squared_error\n",
    "from sklearn.model_selection import train_test_split\n",
    "%matplotlib inline"
   ]
  },
  {
   "cell_type": "code",
   "execution_count": null,
   "metadata": {},
   "outputs": [],
   "source": [
    "df = pd.read_csv('./data/rew_van_jan12_clean_engineered.csv')\n",
    "features = [feature for feature in df.columns if feature != 'price']\n",
    "X = df[features]\n",
    "y = df['price']"
   ]
  },
  {
   "cell_type": "code",
   "execution_count": null,
   "metadata": {},
   "outputs": [],
   "source": [
    "def load_models():\n",
    "    with open('./models/multiple_linear.pkl', 'rb') as f:\n",
    "        linear_model = pickle.load(f)\n",
    "    with open('./models/xgb.pkl', 'rb') as f:\n",
    "        xgb_model = pickle.load(f)\n",
    "    with open('./models/random_forest.pkl', 'rb') as f:\n",
    "        rf_model = pickle.load(f)\n",
    "    with open('./models/mlp.pkl', 'rb') as f:\n",
    "        mlp_model = pickle.load(f)\n",
    "    models = [linear_model, xgb_model, rf_model, mlp_model]\n",
    "    return models\n",
    "models = load_models()"
   ]
  },
  {
   "cell_type": "code",
   "execution_count": null,
   "metadata": {},
   "outputs": [],
   "source": [
    "# try brand new data\n",
    "# https://www.rew.ca/properties/R2230074/1897-w-37th-avenue-vancouver-bc?search_type=property_browse&search_id=vancouver-bc\n",
    "actual_price = '$5,688,000'\n",
    "sqft = 3790\n",
    "bed = 4\n",
    "bath = 4\n",
    "sub_area = \"Quilchena\"\n",
    "area = \"Vancouver West\"\n",
    "property_type = \"House\"\n",
    "strata_type = \"Freehold NonStrata\"\n",
    "new_data = {'sqft': sqft,\n",
    "            'bed': bed,\n",
    "            'bath': bath,\n",
    "            'sub_area_{}'.format(sub_area): 1,\n",
    "            'area_{}'.format(area): 1,\n",
    "            'property_type_{}'.format(property_type): 1,\n",
    "            'strata_type_{}'.format(strata_type): 1\n",
    "           }\n",
    "new_df = pd.get_dummies(pd.DataFrame(data=[new_data], columns=X.columns).fillna(0))\n",
    "\n",
    "for model in models:\n",
    "    predicted_price = model.predict(new_df)\n",
    "    print(\"method: {}\".format(model.__class__))\n",
    "    print(\"predicted price: ${}M\".format(predicted_price[0]/1e6))\n",
    "    print(\"actual price: {}\".format(actual_price))"
   ]
  },
  {
   "cell_type": "code",
   "execution_count": null,
   "metadata": {},
   "outputs": [],
   "source": [
    "# try brand new data\n",
    "actual_price = '$3M'\n",
    "sqft = 1776\n",
    "bed = 3\n",
    "bath = 2\n",
    "sub_area = \"South Granville\"\n",
    "area = \"Vancouver West\"\n",
    "property_type = \"Apt/Condo\"\n",
    "strata_type = \"Freehold Strata\"\n",
    "new_data = {'sqft': sqft,\n",
    "            'bed': bed,\n",
    "            'bath': bath,\n",
    "            'sub_area_{}'.format(sub_area): 1,\n",
    "            'area_{}'.format(area): 1,\n",
    "            'property_type_{}'.format(property_type): 1,\n",
    "            'strata_type_{}'.format(strata_type): 1\n",
    "           }\n",
    "new_df = pd.get_dummies(pd.DataFrame(data=[new_data], columns=X.columns).fillna(0))\n",
    "for model in models:\n",
    "    predicted_price = model.predict(new_df)\n",
    "    print(\"method: {}\".format(model.__class__))\n",
    "    print(\"predicted price: ${}M\".format(predicted_price[0]/1e6))\n",
    "    print(\"actual price: {}\".format(actual_price))"
   ]
  }
 ],
 "metadata": {
  "kernelspec": {
   "display_name": "Python 3",
   "language": "python",
   "name": "python3"
  },
  "language_info": {
   "codemirror_mode": {
    "name": "ipython",
    "version": 3
   },
   "file_extension": ".py",
   "mimetype": "text/x-python",
   "name": "python",
   "nbconvert_exporter": "python",
   "pygments_lexer": "ipython3",
   "version": "3.6.3"
  }
 },
 "nbformat": 4,
 "nbformat_minor": 2
}
