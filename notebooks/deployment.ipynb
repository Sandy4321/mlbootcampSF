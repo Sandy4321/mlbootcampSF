{
 "cells": [
  {
   "cell_type": "code",
   "execution_count": 1,
   "metadata": {},
   "outputs": [
    {
     "ename": "ModuleNotFoundError",
     "evalue": "No module named 'flask'",
     "output_type": "error",
     "traceback": [
      "\u001b[0;31m---------------------------------------------------------------------------\u001b[0m",
      "\u001b[0;31mModuleNotFoundError\u001b[0m                       Traceback (most recent call last)",
      "\u001b[0;32m<ipython-input-1-117a6d41dbc4>\u001b[0m in \u001b[0;36m<module>\u001b[0;34m()\u001b[0m\n\u001b[0;32m----> 1\u001b[0;31m \u001b[0;32mimport\u001b[0m \u001b[0mflask\u001b[0m\u001b[0;34m\u001b[0m\u001b[0m\n\u001b[0m",
      "\u001b[0;31mModuleNotFoundError\u001b[0m: No module named 'flask'"
     ]
    }
   ],
   "source": [
    "import flask"
   ]
  },
  {
   "cell_type": "code",
   "execution_count": 3,
   "metadata": {},
   "outputs": [
    {
     "name": "stdout",
     "output_type": "stream",
     "text": [
      "Requirement already satisfied: flask in /usr/local/lib/python3.6/dist-packages\n",
      "Collecting flask-restplus\n",
      "  Downloading flask_restplus-0.10.1-py2.py3-none-any.whl (1.0MB)\n",
      "\u001b[K    100% |████████████████████████████████| 1.0MB 796kB/s ta 0:00:01\n",
      "\u001b[?25hRequirement already satisfied: itsdangerous>=0.21 in /usr/local/lib/python3.6/dist-packages (from flask)\n",
      "Requirement already satisfied: Jinja2>=2.4 in /usr/local/lib/python3.6/dist-packages (from flask)\n",
      "Requirement already satisfied: click>=2.0 in /usr/local/lib/python3.6/dist-packages (from flask)\n",
      "Requirement already satisfied: Werkzeug>=0.7 in /usr/local/lib/python3.6/dist-packages (from flask)\n",
      "Requirement already satisfied: pytz in /usr/local/lib/python3.6/dist-packages (from flask-restplus)\n",
      "Requirement already satisfied: six>=1.3.0 in /usr/local/lib/python3.6/dist-packages (from flask-restplus)\n",
      "Collecting aniso8601>=0.82 (from flask-restplus)\n",
      "  Downloading aniso8601-2.0.1-py2.py3-none-any.whl\n",
      "Requirement already satisfied: jsonschema in /usr/local/lib/python3.6/dist-packages (from flask-restplus)\n",
      "Requirement already satisfied: MarkupSafe>=0.23 in /usr/local/lib/python3.6/dist-packages (from Jinja2>=2.4->flask)\n",
      "Installing collected packages: aniso8601, flask-restplus\n",
      "Successfully installed aniso8601-2.0.1 flask-restplus-0.10.1\n"
     ]
    }
   ],
   "source": [
    "!pip install flask flask-restplus"
   ]
  },
  {
   "cell_type": "code",
   "execution_count": 4,
   "metadata": {},
   "outputs": [],
   "source": [
    "import flask"
   ]
  },
  {
   "cell_type": "code",
   "execution_count": 1,
   "metadata": {},
   "outputs": [
    {
     "name": "stderr",
     "output_type": "stream",
     "text": [
      " * Running on http://0.0.0.0:5000/ (Press CTRL+C to quit)\n",
      "172.17.0.1 - - [01/Mar/2018 05:51:08] \"\u001b[37mGET / HTTP/1.1\u001b[0m\" 200 -\n"
     ]
    }
   ],
   "source": [
    "from flask import Flask\n",
    "app = Flask(__name__)\n",
    "\n",
    "@app.route('/')\n",
    "def hello_world():\n",
    "    return 'Hello, World!'\n",
    "app.run(host=\"0.0.0.0\", port=5000)"
   ]
  },
  {
   "cell_type": "code",
   "execution_count": 4,
   "metadata": {},
   "outputs": [
    {
     "name": "stderr",
     "output_type": "stream",
     "text": [
      " * Running on http://0.0.0.0:5000/ (Press CTRL+C to quit)\n",
      "172.17.0.1 - - [01/Mar/2018 05:53:52] \"\u001b[37mGET / HTTP/1.1\u001b[0m\" 200 -\n",
      "172.17.0.1 - - [01/Mar/2018 05:53:52] \"\u001b[37mGET /swaggerui/bower/swagger-ui/dist/css/typography.css HTTP/1.1\u001b[0m\" 200 -\n",
      "172.17.0.1 - - [01/Mar/2018 05:53:52] \"\u001b[37mGET /swaggerui/bower/swagger-ui/dist/css/reset.css HTTP/1.1\u001b[0m\" 200 -\n",
      "172.17.0.1 - - [01/Mar/2018 05:53:52] \"\u001b[37mGET /swaggerui/bower/swagger-ui/dist/css/screen.css HTTP/1.1\u001b[0m\" 200 -\n",
      "172.17.0.1 - - [01/Mar/2018 05:53:52] \"\u001b[37mGET /swaggerui/bower/swagger-ui/dist/lib/object-assign-pollyfill.js HTTP/1.1\u001b[0m\" 200 -\n",
      "172.17.0.1 - - [01/Mar/2018 05:53:52] \"\u001b[37mGET /swaggerui/bower/swagger-ui/dist/lib/jquery-1.8.0.min.js HTTP/1.1\u001b[0m\" 200 -\n",
      "172.17.0.1 - - [01/Mar/2018 05:53:52] \"\u001b[37mGET /swaggerui/bower/swagger-ui/dist/lib/jquery.slideto.min.js HTTP/1.1\u001b[0m\" 200 -\n",
      "172.17.0.1 - - [01/Mar/2018 05:53:52] \"\u001b[37mGET /swaggerui/bower/swagger-ui/dist/lib/jquery.wiggle.min.js HTTP/1.1\u001b[0m\" 200 -\n",
      "172.17.0.1 - - [01/Mar/2018 05:53:52] \"\u001b[37mGET /swaggerui/bower/swagger-ui/dist/lib/jquery.ba-bbq.min.js HTTP/1.1\u001b[0m\" 200 -\n",
      "172.17.0.1 - - [01/Mar/2018 05:53:52] \"\u001b[37mGET /swaggerui/bower/swagger-ui/dist/lib/handlebars-4.0.5.js HTTP/1.1\u001b[0m\" 200 -\n",
      "172.17.0.1 - - [01/Mar/2018 05:53:52] \"\u001b[37mGET /swaggerui/bower/swagger-ui/dist/lib/lodash.min.js HTTP/1.1\u001b[0m\" 200 -\n",
      "172.17.0.1 - - [01/Mar/2018 05:53:52] \"\u001b[37mGET /swaggerui/bower/swagger-ui/dist/lib/backbone-min.js HTTP/1.1\u001b[0m\" 200 -\n",
      "172.17.0.1 - - [01/Mar/2018 05:53:52] \"\u001b[37mGET /swaggerui/bower/swagger-ui/dist/swagger-ui.min.js HTTP/1.1\u001b[0m\" 200 -\n",
      "172.17.0.1 - - [01/Mar/2018 05:53:52] \"\u001b[37mGET /swaggerui/bower/swagger-ui/dist/lib/highlight.9.1.0.pack.js HTTP/1.1\u001b[0m\" 200 -\n",
      "172.17.0.1 - - [01/Mar/2018 05:53:52] \"\u001b[37mGET /swaggerui/bower/swagger-ui/dist/lib/highlight.9.1.0.pack_extended.js HTTP/1.1\u001b[0m\" 200 -\n",
      "172.17.0.1 - - [01/Mar/2018 05:53:52] \"\u001b[37mGET /swaggerui/bower/swagger-ui/dist/lib/jsoneditor.min.js HTTP/1.1\u001b[0m\" 200 -\n",
      "172.17.0.1 - - [01/Mar/2018 05:53:52] \"\u001b[37mGET /swaggerui/bower/swagger-ui/dist/lib/marked.js HTTP/1.1\u001b[0m\" 200 -\n",
      "172.17.0.1 - - [01/Mar/2018 05:53:52] \"\u001b[37mGET /swaggerui/bower/swagger-ui/dist/lib/swagger-oauth.js HTTP/1.1\u001b[0m\" 200 -\n",
      "172.17.0.1 - - [01/Mar/2018 05:53:52] \"\u001b[37mGET /swaggerui/bower/swagger-ui/dist/fonts/DroidSans.ttf HTTP/1.1\u001b[0m\" 200 -\n",
      "172.17.0.1 - - [01/Mar/2018 05:53:52] \"\u001b[37mGET /swagger.json HTTP/1.1\u001b[0m\" 200 -\n",
      "172.17.0.1 - - [01/Mar/2018 05:53:52] \"\u001b[37mGET /swaggerui/bower/swagger-ui/dist/fonts/DroidSans-Bold.ttf HTTP/1.1\u001b[0m\" 200 -\n",
      "172.17.0.1 - - [01/Mar/2018 05:53:53] \"\u001b[33mGET /favicon.ico HTTP/1.1\u001b[0m\" 404 -\n",
      "172.17.0.1 - - [01/Mar/2018 05:53:56] \"\u001b[37mGET /swaggerui/bower/swagger-ui/dist/images/throbber.gif HTTP/1.1\u001b[0m\" 200 -\n",
      "172.17.0.1 - - [01/Mar/2018 05:54:00] \"\u001b[37mGET /todos/ HTTP/1.1\u001b[0m\" 200 -\n",
      "127.0.0.1 - - [01/Mar/2018 05:55:44] \"\u001b[37mGET /todos/ HTTP/1.1\u001b[0m\" 200 -\n",
      "127.0.0.1 - - [01/Mar/2018 05:56:03] \"\u001b[37mGET /todos/ HTTP/1.1\u001b[0m\" 200 -\n",
      "127.0.0.1 - - [01/Mar/2018 05:56:11] \"\u001b[37mGET /todos/ HTTP/1.1\u001b[0m\" 200 -\n",
      "172.17.0.1 - - [01/Mar/2018 05:56:16] \"\u001b[37mGET /todos/ HTTP/1.1\u001b[0m\" 200 -\n",
      "172.17.0.1 - - [01/Mar/2018 05:56:17] \"\u001b[37mGET /todos/ HTTP/1.1\u001b[0m\" 200 -\n",
      "172.17.0.1 - - [01/Mar/2018 05:56:38] \"\u001b[1m\u001b[31mPOST /todos/ HTTP/1.1\u001b[0m\" 400 -\n",
      "172.17.0.1 - - [01/Mar/2018 05:57:03] \"\u001b[37mPOST /todos/ HTTP/1.1\u001b[0m\" 201 -\n",
      "127.0.0.1 - - [01/Mar/2018 05:57:08] \"\u001b[37mGET /todos/ HTTP/1.1\u001b[0m\" 200 -\n"
     ]
    }
   ],
   "source": [
    "from flask import Flask\n",
    "from flask_restplus import Api, Resource, fields\n",
    "from werkzeug.contrib.fixers import ProxyFix\n",
    "\n",
    "app = Flask(__name__)\n",
    "app.wsgi_app = ProxyFix(app.wsgi_app)\n",
    "api = Api(app, version='1.0', title='TodoMVC API',\n",
    "    description='A simple TodoMVC API',\n",
    ")\n",
    "\n",
    "ns = api.namespace('todos', description='TODO operations')\n",
    "\n",
    "todo = api.model('Todo', {\n",
    "    'id': fields.Integer(readOnly=True, description='The task unique identifier'),\n",
    "    'task': fields.String(required=True, description='The task details')\n",
    "})\n",
    "\n",
    "\n",
    "class TodoDAO(object):\n",
    "    def __init__(self):\n",
    "        self.counter = 0\n",
    "        self.todos = []\n",
    "\n",
    "    def get(self, id):\n",
    "        for todo in self.todos:\n",
    "            if todo['id'] == id:\n",
    "                return todo\n",
    "        api.abort(404, \"Todo {} doesn't exist\".format(id))\n",
    "\n",
    "    def create(self, data):\n",
    "        todo = data\n",
    "        todo['id'] = self.counter = self.counter + 1\n",
    "        self.todos.append(todo)\n",
    "        return todo\n",
    "\n",
    "    def update(self, id, data):\n",
    "        todo = self.get(id)\n",
    "        todo.update(data)\n",
    "        return todo\n",
    "\n",
    "    def delete(self, id):\n",
    "        todo = self.get(id)\n",
    "        self.todos.remove(todo)\n",
    "\n",
    "\n",
    "DAO = TodoDAO()\n",
    "DAO.create({'task': 'Build an API'})\n",
    "DAO.create({'task': '?????'})\n",
    "DAO.create({'task': 'profit!'})\n",
    "\n",
    "\n",
    "@ns.route('/')\n",
    "class TodoList(Resource):\n",
    "    '''Shows a list of all todos, and lets you POST to add new tasks'''\n",
    "    @ns.doc('list_todos')\n",
    "    @ns.marshal_list_with(todo)\n",
    "    def get(self):\n",
    "        '''List all tasks'''\n",
    "        return DAO.todos\n",
    "\n",
    "    @ns.doc('create_todo')\n",
    "    @ns.expect(todo)\n",
    "    @ns.marshal_with(todo, code=201)\n",
    "    def post(self):\n",
    "        '''Create a new task'''\n",
    "        return DAO.create(api.payload), 201\n",
    "\n",
    "\n",
    "@ns.route('/<int:id>')\n",
    "@ns.response(404, 'Todo not found')\n",
    "@ns.param('id', 'The task identifier')\n",
    "class Todo(Resource):\n",
    "    '''Show a single todo item and lets you delete them'''\n",
    "    @ns.doc('get_todo')\n",
    "    @ns.marshal_with(todo)\n",
    "    def get(self, id):\n",
    "        '''Fetch a given resource'''\n",
    "        return DAO.get(id)\n",
    "\n",
    "    @ns.doc('delete_todo')\n",
    "    @ns.response(204, 'Todo deleted')\n",
    "    def delete(self, id):\n",
    "        '''Delete a task given its identifier'''\n",
    "        DAO.delete(id)\n",
    "        return '', 204\n",
    "\n",
    "    @ns.expect(todo)\n",
    "    @ns.marshal_with(todo)\n",
    "    def put(self, id):\n",
    "        '''Update a task given its identifier'''\n",
    "        return DAO.update(id, api.payload)\n",
    "\n",
    "\n",
    "if __name__ == '__main__':\n",
    "    app.run(host=\"0.0.0.0\", port=5000)"
   ]
  }
 ],
 "metadata": {
  "kernelspec": {
   "display_name": "Python 3",
   "language": "python",
   "name": "python3"
  },
  "language_info": {
   "codemirror_mode": {
    "name": "ipython",
    "version": 3
   },
   "file_extension": ".py",
   "mimetype": "text/x-python",
   "name": "python",
   "nbconvert_exporter": "python",
   "pygments_lexer": "ipython3",
   "version": "3.6.3"
  }
 },
 "nbformat": 4,
 "nbformat_minor": 2
}
