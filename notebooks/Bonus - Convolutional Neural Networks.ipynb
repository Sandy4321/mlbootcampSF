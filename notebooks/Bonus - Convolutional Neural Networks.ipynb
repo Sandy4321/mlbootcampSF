{
 "cells": [
  {
   "cell_type": "markdown",
   "metadata": {},
   "source": [
    "# BONUS - Convolutional Neural Networks\n",
    "Let's try to apply our newfound ML knowledge to Deep Learning!!  \n",
    "  \n",
    "In this example we will use a **Convolutional Neural Network** pretrained on the [ImageNet] dataset to extract \"bottleneck features\" from an image. \n",
    "We will then use these features to train a RandomForestClassifier. This is not a state of the art solution by any means but will hopefully get you acquainted with CNNs.\n",
    "[ImageNet]: http://www.image-net.org/"
   ]
  },
  {
   "cell_type": "markdown",
   "metadata": {},
   "source": [
    "pip install a few last minute libraries that are not yet on the Docker image"
   ]
  },
  {
   "cell_type": "code",
   "execution_count": null,
   "metadata": {},
   "outputs": [],
   "source": [
    "!pip install h5py pillow opencv-python"
   ]
  },
  {
   "cell_type": "code",
   "execution_count": null,
   "metadata": {},
   "outputs": [],
   "source": [
    "from IPython.display import Image\n",
    "print(\"VGG16:\")\n",
    "Image('./images/imagenet_vgg16.png')"
   ]
  },
  {
   "cell_type": "markdown",
   "metadata": {},
   "source": [
    "## Use keras' VGG16 (pictured above) pretrained on ImageNet to get bottleneck features"
   ]
  },
  {
   "cell_type": "code",
   "execution_count": null,
   "metadata": {},
   "outputs": [],
   "source": [
    "import os\n",
    "import numpy as np\n",
    "from tensorflow.python.keras.preprocessing.image import ImageDataGenerator\n",
    "from tensorflow.python.keras.models import Sequential\n",
    "from tensorflow.python.keras.layers import Dropout, Flatten, Dense\n",
    "from tensorflow.python.keras import applications\n",
    "\n",
    "# dimensions of our images.\n",
    "img_width, img_height = 150, 150\n",
    "\n",
    "top_model_weights_path = 'bottleneck_fc_model.h5'\n",
    "train_data_dir = 'data/images/train'\n",
    "validation_data_dir = 'data/images/validation'\n",
    "nb_train_samples = 200\n",
    "nb_validation_samples = 40\n",
    "epochs = 50\n",
    "batch_size = 1\n",
    "\n",
    "\n",
    "def save_bottlebeck_features():\n",
    "    datagen = ImageDataGenerator(rescale=1. / 255)\n",
    "\n",
    "    # build the VGG16 network\n",
    "    model = applications.VGG16(include_top=False, weights='imagenet')\n",
    "\n",
    "    generator = datagen.flow_from_directory(\n",
    "        train_data_dir,\n",
    "        target_size=(img_width, img_height),\n",
    "        batch_size=batch_size,\n",
    "        class_mode=None,\n",
    "        shuffle=False)\n",
    "    bottleneck_features_train = model.predict_generator(\n",
    "        generator, nb_train_samples // batch_size)\n",
    "    np.save(open(os.path.join(train_data_dir,'bottleneck_features_train.npy'), 'wb'),\n",
    "            bottleneck_features_train)\n",
    "\n",
    "    generator = datagen.flow_from_directory(\n",
    "        validation_data_dir,\n",
    "        target_size=(img_width, img_height),\n",
    "        batch_size=batch_size,\n",
    "        class_mode=None,\n",
    "        shuffle=False)\n",
    "    bottleneck_features_validation = model.predict_generator(\n",
    "        generator, nb_validation_samples // batch_size)\n",
    "    np.save(open(os.path.join(validation_data_dir,'bottleneck_features_validation.npy'), 'wb'),\n",
    "            bottleneck_features_validation)\n"
   ]
  },
  {
   "cell_type": "markdown",
   "metadata": {},
   "source": [
    "Save features to disk so we don't need to compute them again"
   ]
  },
  {
   "cell_type": "code",
   "execution_count": null,
   "metadata": {
    "scrolled": true
   },
   "outputs": [],
   "source": [
    "save_bottlebeck_features()"
   ]
  },
  {
   "cell_type": "markdown",
   "metadata": {},
   "source": [
    "## Load the bottleneck features and format them for input into sklearn ML algorithms"
   ]
  },
  {
   "cell_type": "code",
   "execution_count": null,
   "metadata": {},
   "outputs": [],
   "source": [
    "train_np = np.load(open(os.path.join(train_data_dir,'bottleneck_features_train.npy'), 'rb'))\n",
    "val_np = np.load(open(os.path.join(validation_data_dir,'bottleneck_features_validation.npy'), 'rb'))\n",
    "df_train = pd.DataFrame(data=train_np.flatten().reshape(200, 512*4*4))\n",
    "df_train['label'] = 0\n",
    "df_train['label'].iloc[100:] = 1\n",
    "X_train = df_train.iloc[:, :8192].values\n",
    "y_train = df_train.iloc[:, 8192:].values.ravel()\n",
    "\n",
    "df_val = pd.DataFrame(data=val_np.flatten().reshape(40, 512*4*4))\n",
    "df_val['label'] = 0\n",
    "df_val['label'].iloc[20:] = 1\n",
    "X_val = df_val.iloc[:, :8192].values\n",
    "y_val = df_val.iloc[:, 8192:].values.ravel()"
   ]
  },
  {
   "cell_type": "code",
   "execution_count": null,
   "metadata": {},
   "outputs": [],
   "source": [
    "from sklearn.ensemble import RandomForestClassifier\n",
    "rfc = RandomForestClassifier()\n",
    "rfc_model = rfc.fit(X_train, y_train)"
   ]
  },
  {
   "cell_type": "code",
   "execution_count": null,
   "metadata": {},
   "outputs": [],
   "source": [
    "def evaluate_model(model, X, y):\n",
    "    y_pred = model.predict(X) # predict y values from input X\n",
    "    print(\"Accuracy: {}%\".format(model.score(X, y)*100.0))\n",
    "evaluate_model(rfc_model, X_val, y_val)"
   ]
  },
  {
   "cell_type": "markdown",
   "metadata": {},
   "source": [
    "## Let's try with a new image!\n"
   ]
  },
  {
   "cell_type": "code",
   "execution_count": null,
   "metadata": {},
   "outputs": [],
   "source": [
    "import urllib\n",
    "import cv2\n",
    "from IPython.display import Image\n",
    "import matplotlib.pyplot as plt\n",
    "%matplotlib inline\n",
    "\n",
    "label_map = {0: 'cat', 1: 'dog'}\n",
    "def preview_image(url):\n",
    "    urllib.request.urlretrieve(url, './image.jpg')\n",
    "    img = cv2.imread('./image.jpg')\n",
    "    plt.imshow(cv2.cvtColor(img, cv2.COLOR_BGR2RGB))\n",
    "    plt.show()"
   ]
  },
  {
   "cell_type": "code",
   "execution_count": null,
   "metadata": {},
   "outputs": [],
   "source": [
    "model = applications.VGG16(include_top=False, weights='imagenet')\n",
    "\n",
    "def get_bottleneck_features(image):\n",
    "    datagen = ImageDataGenerator(rescale=1. / 255)\n",
    "    image_rsz = cv2.resize(image, (img_width, img_height))\n",
    "    image_rsz = image_rsz[:,:,:]\n",
    "    features = model.predict(np.array([image_rsz]))\n",
    "    return features.reshape(1, 512*4*4)\n",
    "\n",
    "def predict_cat_dog(url: str):\n",
    "    preview_image(url)\n",
    "    urllib.request.urlretrieve(url, './image.jpg')\n",
    "    img = cv2.imread('./image.jpg')\n",
    "    features = get_bottleneck_features(img)\n",
    "    pred = rfc_model.predict(features).squeeze()\n",
    "    print(f'prediction is {label_map[int(pred)].upper()}')"
   ]
  },
  {
   "cell_type": "code",
   "execution_count": null,
   "metadata": {},
   "outputs": [],
   "source": [
    "predict_cat_dog('https://upload.wikimedia.org/wikipedia/commons/thumb/3/3a/Cat03.jpg/1024px-Cat03.jpg')"
   ]
  },
  {
   "cell_type": "code",
   "execution_count": null,
   "metadata": {},
   "outputs": [],
   "source": [
    "predict_cat_dog('https://i.kinja-img.com/gawker-media/image/upload/s--kx3d-Wgg--/c_scale,fl_progressive,q_80,w_800/ol9ceoqxidudap8owlwn.jpg')"
   ]
  },
  {
   "cell_type": "code",
   "execution_count": null,
   "metadata": {},
   "outputs": [],
   "source": [
    "predict_cat_dog('https://d1wn0q81ehzw6k.cloudfront.net/additional/thul/media/0eaa14d11e8930f5?w=400&h=400')"
   ]
  },
  {
   "cell_type": "code",
   "execution_count": null,
   "metadata": {},
   "outputs": [],
   "source": [
    "predict_cat_dog('https://thechive.files.wordpress.com/2018/02/lead53.jpg?quality=85&strip=info')"
   ]
  },
  {
   "cell_type": "code",
   "execution_count": null,
   "metadata": {},
   "outputs": [],
   "source": [
    "predict_cat_dog('https://www.what-dog.net/Images/faces2/scroll001.jpg')"
   ]
  },
  {
   "cell_type": "code",
   "execution_count": null,
   "metadata": {},
   "outputs": [],
   "source": [
    "predict_cat_dog('http://www.dogbreedslist.info/uploads/allimg/dog-pictures/Rottweiler-1.jpg')"
   ]
  },
  {
   "cell_type": "code",
   "execution_count": null,
   "metadata": {},
   "outputs": [],
   "source": []
  }
 ],
 "metadata": {
  "kernelspec": {
   "display_name": "Python 3",
   "language": "python",
   "name": "python3"
  },
  "language_info": {
   "codemirror_mode": {
    "name": "ipython",
    "version": 3
   },
   "file_extension": ".py",
   "mimetype": "text/x-python",
   "name": "python",
   "nbconvert_exporter": "python",
   "pygments_lexer": "ipython3",
   "version": "3.6.3"
  }
 },
 "nbformat": 4,
 "nbformat_minor": 2
}
